{
 "cells": [
  {
   "cell_type": "markdown",
   "id": "6d2d48ae",
   "metadata": {},
   "source": [
    "# Table of Contents\n",
    "* [1.数据清洗&探索性数据分析](#chapter1)\n",
    "    * [1.1 数据格式](#section_1_1)\n",
    "    * [1.2 数据规模](#section_1_2)\n",
    "    * [1.3 数据分布](#section_1_3)\n",
    "    * [1.4 评分前几名的动漫](#section_1_4)\n",
    "    * [1.5 评分数量和评分高低的关系](#section_1_5)\n",
    "    * [1.6 Scrapy抓取动漫数据](#section_1_6)\n",
    "    \n",
    "* [2.召回层](#chapter2)\n",
    "    * [2.1 Deepwalk创建物品序列](#section_2_1)\n",
    "    * [2.2 Item2vec训练物品和用户Embedding](#section_2_2)\n",
    "    * [2.3 保存训练好的Embedding到Redis](#section_2_3)\n",
    "    * [2.4 LSH最近邻查找](#section_2_4)\n",
    "* [3.排序层](#chapter3)\n",
    "    * [3.1构建用户特征](#section_3_1)\n",
    "    * [3.2特征工程-数值特征缩放](#section_3_2)\n",
    "    * [3.3特征工程-离散特征多热编码](#section_3_3)\n",
    "    * [3.4处理线上服务用户&物品特征](#section_3_4)\n",
    "* [4.MLP神经网络训练](#chapter4)\n",
    "    * [4.1 Tnsorflow模型训练](#section_4_1)\n",
    "    * [4.2 调参](#section_4_2)\n",
    "* [5.召回&排序&客户访问API后端搭建](#chapter5)"
   ]
  },
  {
   "cell_type": "markdown",
   "id": "31aa8e8a",
   "metadata": {},
   "source": [
    "# 1.数据清洗&探索性数据分析 <a class=\"anchor\" id=\"chapter1\"></a>"
   ]
  },
  {
   "cell_type": "markdown",
   "id": "8e41d527",
   "metadata": {},
   "source": [
    "### 1.1 数据格式<a class=\"anchor\" id=\"section_1_1\"></a>"
   ]
  },
  {
   "cell_type": "markdown",
   "id": "312d07b9",
   "metadata": {},
   "source": [
    "* 对于anime_df, episodes预期是数值类的，但是却是object类，说明可能包含str类型的，下面对其检查类型不一致的样本,发现episodes全部是str类型,没有空值，将其转化为int类型。rating应该要是int，但是float类型，说明有可能有None或者NaN,但是没有str类型。检查后发现，rating有230个空值，将其drop掉,再检查一下type genre的空值，发现分别有25和62个空值，aired_from和aired_to是int类，所以不需要检查空值了.\n",
    "---\n",
    "* 对于rating_df，全部是int类，所以没有空值，也没有其他类型的值，数据很干净，menmbers字段int,也很干净\n",
    "---\n",
    "* 经过下面的数据处理，genre有43种，type有6中，rating是1-10的评分， -1代表没有评分"
   ]
  },
  {
   "cell_type": "code",
   "execution_count": 1,
   "id": "9356b425",
   "metadata": {},
   "outputs": [],
   "source": [
    "import pandas as pd\n",
    "import matplotlib.pyplot as plt\n",
    "import seaborn\n",
    "import csv"
   ]
  },
  {
   "cell_type": "code",
   "execution_count": 2,
   "id": "cf44dedb",
   "metadata": {},
   "outputs": [],
   "source": [
    "anime_df=pd.read_csv(\"E:/Recomendation_sys_project/archive/parsed_anime.csv\",index_col='anime_id')\n",
    "rating_df=pd.read_csv(\"E:/Recomendation_sys_project/archive/rating.csv\")"
   ]
  },
  {
   "cell_type": "code",
   "execution_count": 3,
   "id": "79cbf929",
   "metadata": {},
   "outputs": [
    {
     "data": {
      "text/plain": [
       "name               object\n",
       "genre              object\n",
       "type               object\n",
       "episodes           object\n",
       "rating            float64\n",
       "members             int64\n",
       "japanese_title     object\n",
       "aired              object\n",
       "image_url          object\n",
       "aired_from          int64\n",
       "aired_to            int64\n",
       "dtype: object"
      ]
     },
     "execution_count": 3,
     "metadata": {},
     "output_type": "execute_result"
    }
   ],
   "source": [
    "anime_df.dtypes"
   ]
  },
  {
   "cell_type": "code",
   "execution_count": 4,
   "id": "b615ed8d",
   "metadata": {},
   "outputs": [
    {
     "data": {
      "text/plain": [
       "user_id     int64\n",
       "anime_id    int64\n",
       "rating      int64\n",
       "dtype: object"
      ]
     },
     "execution_count": 4,
     "metadata": {},
     "output_type": "execute_result"
    }
   ],
   "source": [
    "rating_df.dtypes"
   ]
  },
  {
   "cell_type": "markdown",
   "id": "b9df7053",
   "metadata": {},
   "source": [
    "#### 处理数据的空值，重复值和其他类型的值"
   ]
  },
  {
   "cell_type": "code",
   "execution_count": 5,
   "id": "b88c6253",
   "metadata": {},
   "outputs": [
    {
     "data": {
      "text/html": [
       "<div>\n",
       "<style scoped>\n",
       "    .dataframe tbody tr th:only-of-type {\n",
       "        vertical-align: middle;\n",
       "    }\n",
       "\n",
       "    .dataframe tbody tr th {\n",
       "        vertical-align: top;\n",
       "    }\n",
       "\n",
       "    .dataframe thead th {\n",
       "        text-align: right;\n",
       "    }\n",
       "</style>\n",
       "<table border=\"1\" class=\"dataframe\">\n",
       "  <thead>\n",
       "    <tr style=\"text-align: right;\">\n",
       "      <th></th>\n",
       "      <th>name</th>\n",
       "      <th>genre</th>\n",
       "      <th>type</th>\n",
       "      <th>episodes</th>\n",
       "      <th>rating</th>\n",
       "      <th>members</th>\n",
       "      <th>japanese_title</th>\n",
       "      <th>aired</th>\n",
       "      <th>image_url</th>\n",
       "      <th>aired_from</th>\n",
       "      <th>aired_to</th>\n",
       "    </tr>\n",
       "    <tr>\n",
       "      <th>anime_id</th>\n",
       "      <th></th>\n",
       "      <th></th>\n",
       "      <th></th>\n",
       "      <th></th>\n",
       "      <th></th>\n",
       "      <th></th>\n",
       "      <th></th>\n",
       "      <th></th>\n",
       "      <th></th>\n",
       "      <th></th>\n",
       "      <th></th>\n",
       "    </tr>\n",
       "  </thead>\n",
       "  <tbody>\n",
       "  </tbody>\n",
       "</table>\n",
       "</div>"
      ],
      "text/plain": [
       "Empty DataFrame\n",
       "Columns: [name, genre, type, episodes, rating, members, japanese_title, aired, image_url, aired_from, aired_to]\n",
       "Index: []"
      ]
     },
     "execution_count": 5,
     "metadata": {},
     "output_type": "execute_result"
    }
   ],
   "source": [
    "#检查空值\n",
    "anime_df[anime_df['episodes'].isna()==True]"
   ]
  },
  {
   "cell_type": "code",
   "execution_count": 6,
   "id": "21376bd2",
   "metadata": {},
   "outputs": [],
   "source": [
    "#检查出那些非数值类的str，并用NaN填补，然后dropna就可以\n",
    "anime_df['episodes']=pd.to_numeric(anime_df['episodes'],errors='coerce')\n",
    "#之后来写查看那些非数值类的episodes的代码，留一个坑！"
   ]
  },
  {
   "cell_type": "code",
   "execution_count": 7,
   "id": "70ff99aa",
   "metadata": {},
   "outputs": [
    {
     "data": {
      "text/plain": [
       "340"
      ]
     },
     "execution_count": 7,
     "metadata": {},
     "output_type": "execute_result"
    }
   ],
   "source": [
    "anime_df[anime_df['episodes'].isna()==True].shape[0]"
   ]
  },
  {
   "cell_type": "code",
   "execution_count": 8,
   "id": "f94b9e36",
   "metadata": {},
   "outputs": [
    {
     "data": {
      "text/plain": [
       "230"
      ]
     },
     "execution_count": 8,
     "metadata": {},
     "output_type": "execute_result"
    }
   ],
   "source": [
    "anime_df[anime_df['rating'].isna()==True].shape[0]"
   ]
  },
  {
   "cell_type": "code",
   "execution_count": 9,
   "id": "9e8e91e3",
   "metadata": {},
   "outputs": [
    {
     "data": {
      "text/plain": [
       "62"
      ]
     },
     "execution_count": 9,
     "metadata": {},
     "output_type": "execute_result"
    }
   ],
   "source": [
    "anime_df[anime_df['genre'].isna()==True].shape[0]"
   ]
  },
  {
   "cell_type": "code",
   "execution_count": 10,
   "id": "708bb45b",
   "metadata": {},
   "outputs": [
    {
     "data": {
      "text/plain": [
       "25"
      ]
     },
     "execution_count": 10,
     "metadata": {},
     "output_type": "execute_result"
    }
   ],
   "source": [
    "len(anime_df[anime_df['type'].isna()==True])"
   ]
  },
  {
   "cell_type": "code",
   "execution_count": 11,
   "id": "6edbcbca",
   "metadata": {},
   "outputs": [
    {
     "data": {
      "text/plain": [
       "name              object\n",
       "genre             object\n",
       "type              object\n",
       "episodes           int32\n",
       "rating             int32\n",
       "members            int64\n",
       "japanese_title    object\n",
       "aired             object\n",
       "image_url         object\n",
       "aired_from         int64\n",
       "aired_to           int64\n",
       "dtype: object"
      ]
     },
     "execution_count": 11,
     "metadata": {},
     "output_type": "execute_result"
    }
   ],
   "source": [
    "#删空值，只要某一行有就删除\n",
    "anime_df=anime_df.dropna(subset=['episodes','rating','genre','type'])\n",
    "anime_df['episodes']=anime_df['episodes'].astype(int)\n",
    "anime_df['rating']=anime_df['rating'].astype(int)\n",
    "anime_df.dtypes"
   ]
  },
  {
   "cell_type": "markdown",
   "id": "e8611a49",
   "metadata": {},
   "source": [
    "#### 看看数据的枚举有哪些"
   ]
  },
  {
   "cell_type": "code",
   "execution_count": null,
   "id": "46d87aa9",
   "metadata": {},
   "outputs": [],
   "source": [
    "anime_df['genre'].unique()#发现是出现多个，需要处理一下"
   ]
  },
  {
   "cell_type": "code",
   "execution_count": null,
   "id": "d61d82a7",
   "metadata": {},
   "outputs": [],
   "source": [
    "#有43中genres\n",
    "genre_list=[gen.split(',') for gen in anime_df['genre']]\n",
    "genre=set([g.strip() for gen in genre_list for g in gen])\n",
    "len(genre)"
   ]
  },
  {
   "cell_type": "code",
   "execution_count": null,
   "id": "8eeb578c",
   "metadata": {},
   "outputs": [],
   "source": [
    "print(anime_df['type'].unique())\n",
    "print(anime_df['type'].nunique())"
   ]
  },
  {
   "cell_type": "code",
   "execution_count": null,
   "id": "af84b2d9",
   "metadata": {},
   "outputs": [],
   "source": [
    "print(rating_df['rating'].unique())\n",
    "print(rating_df['rating'].nunique())"
   ]
  },
  {
   "cell_type": "markdown",
   "id": "d84cefc7",
   "metadata": {},
   "source": [
    "### 1.2 数据规模 <a class=\"anchor\" id=\"section_1_2\"></a>"
   ]
  },
  {
   "cell_type": "markdown",
   "id": "fbd76b99",
   "metadata": {},
   "source": [
    "在这个数据集中，有7万多的用户，有1万多部动漫，对于模型来说是一个比较好的数量级。有近8百多万评论，会对之后模型的选取有一些挑战"
   ]
  },
  {
   "cell_type": "code",
   "execution_count": 12,
   "id": "f9a84517",
   "metadata": {},
   "outputs": [
    {
     "data": {
      "text/plain": [
       "7813737"
      ]
     },
     "execution_count": 12,
     "metadata": {},
     "output_type": "execute_result"
    }
   ],
   "source": [
    "rating_df.shape[0]"
   ]
  },
  {
   "cell_type": "code",
   "execution_count": 13,
   "id": "1330bb47",
   "metadata": {},
   "outputs": [],
   "source": [
    "unique_anime_count=rating_df['anime_id'].nunique()\n",
    "unique_user_count=rating_df['user_id'].nunique()"
   ]
  },
  {
   "cell_type": "code",
   "execution_count": 14,
   "id": "a21a741e",
   "metadata": {},
   "outputs": [
    {
     "data": {
      "text/plain": [
       "11200"
      ]
     },
     "execution_count": 14,
     "metadata": {},
     "output_type": "execute_result"
    }
   ],
   "source": [
    "unique_anime_count"
   ]
  },
  {
   "cell_type": "code",
   "execution_count": 15,
   "id": "d355e25a",
   "metadata": {},
   "outputs": [
    {
     "data": {
      "text/plain": [
       "73515"
      ]
     },
     "execution_count": 15,
     "metadata": {},
     "output_type": "execute_result"
    }
   ],
   "source": [
    "unique_user_count"
   ]
  },
  {
   "cell_type": "markdown",
   "id": "d74d6113",
   "metadata": {},
   "source": [
    "### 1.3 数据分布 <a class=\"anchor\" id=\"section_1_3\"></a>"
   ]
  },
  {
   "cell_type": "markdown",
   "id": "79c1ab41",
   "metadata": {},
   "source": [
    "#### 探索连续性数值的分布，为之后数值归一化做准备"
   ]
  },
  {
   "cell_type": "markdown",
   "id": "73cdad70",
   "metadata": {},
   "source": [
    "* **Episodes:** 数据没有明显的边界，方差比较大，存在一些离群值 75%的动漫的集数是在12集一下。所以数据不适合用归一化，而是用标准化来处理\n",
    "* **Anime Rating** 数据分布有明显边界且比较均匀，所以对其做归一化和标准化处理都可以。\n",
    "* **member** 数据没有明显边界，所以处理方式和episode一样\n",
    "* 大部分动漫的被评价的次数分布在2500次以下，有少数的分布在2500次以上\n",
    "* 动漫被评价次数和评分高低之间没有一个特别明显的关系。所以评价次数不能代表动漫的质量高低，只能代表热门程度。\n",
    "* genre和type的分布来看，动漫genre和type分布还是比较多样化，数量没有全部集中在3-4中的genre中。这样之后用户的genre特征的构建是会具有区分度的。\n",
    "* 评分排名前20的动漫，Movie种类是最多的\n",
    "* TV类型的集数比较多，其他几类的差别不大。\n",
    "---\n",
    "**总结** 对于动漫特征的刻画，动漫的genre,type,episodes，rating，members.对于用户特征的刻画，就是用户对动漫评分的均分，喜欢的genre, type, 还有episodes的均值。"
   ]
  },
  {
   "cell_type": "code",
   "execution_count": 16,
   "id": "0dcf609d",
   "metadata": {},
   "outputs": [
    {
     "data": {
      "text/plain": [
       "count    11830.000000\n",
       "mean        12.486729\n",
       "std         47.097131\n",
       "min          1.000000\n",
       "25%          1.000000\n",
       "50%          2.000000\n",
       "75%         12.000000\n",
       "max       1818.000000\n",
       "Name: episodes, dtype: float64"
      ]
     },
     "execution_count": 16,
     "metadata": {},
     "output_type": "execute_result"
    },
    {
     "data": {
      "image/png": "[encoded data removed]",
      "text/plain": [
       "<Figure size 640x480 with 1 Axes>"
      ]
     },
     "metadata": {},
     "output_type": "display_data"
    }
   ],
   "source": [
    "anime_df['episodes'].plot.box(grid=True)\n",
    "anime_df['episodes'].describe()"
   ]
  },
  {
   "cell_type": "code",
   "execution_count": 17,
   "id": "0950f0fb",
   "metadata": {},
   "outputs": [
    {
     "data": {
      "text/plain": [
       "count    11830.000000\n",
       "mean         6.006932\n",
       "std          1.054658\n",
       "min          1.000000\n",
       "25%          5.000000\n",
       "50%          6.000000\n",
       "75%          7.000000\n",
       "max         10.000000\n",
       "Name: rating, dtype: float64"
      ]
     },
     "execution_count": 17,
     "metadata": {},
     "output_type": "execute_result"
    },
    {
     "data": {
      "image/png": "[encoded data removed]",
      "text/plain": [
       "<Figure size 640x480 with 1 Axes>"
      ]
     },
     "metadata": {},
     "output_type": "display_data"
    }
   ],
   "source": [
    "anime_df['rating'].plot(kind='box',grid=True)\n",
    "anime_df['rating'].describe()"
   ]
  },
  {
   "cell_type": "code",
   "execution_count": 18,
   "id": "3af38ff3",
   "metadata": {},
   "outputs": [
    {
     "data": {
      "text/plain": [
       "count    1.183000e+04\n",
       "mean     1.851100e+04\n",
       "std      5.537144e+04\n",
       "min      1.200000e+01\n",
       "25%      2.322500e+02\n",
       "50%      1.589500e+03\n",
       "75%      9.832000e+03\n",
       "max      1.013917e+06\n",
       "Name: members, dtype: float64"
      ]
     },
     "execution_count": 18,
     "metadata": {},
     "output_type": "execute_result"
    },
    {
     "data": {
      "image/png": "[encoded data removed]",
      "text/plain": [
       "<Figure size 640x480 with 1 Axes>"
      ]
     },
     "metadata": {},
     "output_type": "display_data"
    }
   ],
   "source": [
    "anime_df['members'].plot(kind='box')\n",
    "anime_df['members'].describe()"
   ]
  },
  {
   "cell_type": "code",
   "execution_count": 19,
   "id": "2970b918",
   "metadata": {},
   "outputs": [
    {
     "data": {
      "text/plain": [
       "11"
      ]
     },
     "execution_count": 19,
     "metadata": {},
     "output_type": "execute_result"
    }
   ],
   "source": [
    "uniq_ratings=rating_df['rating'].nunique()\n",
    "uniq_ratings"
   ]
  },
  {
   "cell_type": "code",
   "execution_count": 20,
   "id": "3ba1bcb1",
   "metadata": {},
   "outputs": [
    {
     "data": {
      "text/plain": [
       "array([-1, 10,  8,  6,  9,  7,  3,  5,  4,  1,  2], dtype=int64)"
      ]
     },
     "execution_count": 20,
     "metadata": {},
     "output_type": "execute_result"
    }
   ],
   "source": [
    "rating_df['rating'].unique()"
   ]
  },
  {
   "cell_type": "code",
   "execution_count": 21,
   "id": "d1a9354b",
   "metadata": {},
   "outputs": [
    {
     "data": {
      "text/plain": [
       "<AxesSubplot:ylabel='Frequency'>"
      ]
     },
     "execution_count": 21,
     "metadata": {},
     "output_type": "execute_result"
    },
    {
     "data": {
      "image/png": "[encoded data removed]",
      "text/plain": [
       "<Figure size 640x480 with 1 Axes>"
      ]
     },
     "metadata": {},
     "output_type": "display_data"
    }
   ],
   "source": [
    "rating_df['rating'].plot.hist(bins=2*uniq_ratings+1,alpha=0.6,color='red',grid=True)"
   ]
  },
  {
   "cell_type": "code",
   "execution_count": 22,
   "id": "9f99ee3d",
   "metadata": {},
   "outputs": [],
   "source": [
    "valid_rating=rating_df[rating_df['rating']>-1]"
   ]
  },
  {
   "cell_type": "code",
   "execution_count": 23,
   "id": "8cf62d71",
   "metadata": {},
   "outputs": [
    {
     "data": {
      "text/html": [
       "<div>\n",
       "<style scoped>\n",
       "    .dataframe tbody tr th:only-of-type {\n",
       "        vertical-align: middle;\n",
       "    }\n",
       "\n",
       "    .dataframe tbody tr th {\n",
       "        vertical-align: top;\n",
       "    }\n",
       "\n",
       "    .dataframe thead th {\n",
       "        text-align: right;\n",
       "    }\n",
       "</style>\n",
       "<table border=\"1\" class=\"dataframe\">\n",
       "  <thead>\n",
       "    <tr style=\"text-align: right;\">\n",
       "      <th></th>\n",
       "      <th>user_id</th>\n",
       "      <th>rating</th>\n",
       "    </tr>\n",
       "  </thead>\n",
       "  <tbody>\n",
       "    <tr>\n",
       "      <th>count</th>\n",
       "      <td>9927.000000</td>\n",
       "      <td>9927.000000</td>\n",
       "    </tr>\n",
       "    <tr>\n",
       "      <th>mean</th>\n",
       "      <td>638.384305</td>\n",
       "      <td>638.384305</td>\n",
       "    </tr>\n",
       "    <tr>\n",
       "      <th>std</th>\n",
       "      <td>1795.865541</td>\n",
       "      <td>1795.865541</td>\n",
       "    </tr>\n",
       "    <tr>\n",
       "      <th>min</th>\n",
       "      <td>1.000000</td>\n",
       "      <td>1.000000</td>\n",
       "    </tr>\n",
       "    <tr>\n",
       "      <th>25%</th>\n",
       "      <td>9.000000</td>\n",
       "      <td>9.000000</td>\n",
       "    </tr>\n",
       "    <tr>\n",
       "      <th>50%</th>\n",
       "      <td>57.000000</td>\n",
       "      <td>57.000000</td>\n",
       "    </tr>\n",
       "    <tr>\n",
       "      <th>75%</th>\n",
       "      <td>395.000000</td>\n",
       "      <td>395.000000</td>\n",
       "    </tr>\n",
       "    <tr>\n",
       "      <th>max</th>\n",
       "      <td>34226.000000</td>\n",
       "      <td>34226.000000</td>\n",
       "    </tr>\n",
       "  </tbody>\n",
       "</table>\n",
       "</div>"
      ],
      "text/plain": [
       "            user_id        rating\n",
       "count   9927.000000   9927.000000\n",
       "mean     638.384305    638.384305\n",
       "std     1795.865541   1795.865541\n",
       "min        1.000000      1.000000\n",
       "25%        9.000000      9.000000\n",
       "50%       57.000000     57.000000\n",
       "75%      395.000000    395.000000\n",
       "max    34226.000000  34226.000000"
      ]
     },
     "execution_count": 23,
     "metadata": {},
     "output_type": "execute_result"
    }
   ],
   "source": [
    "valid_rating.groupby('anime_id').count().describe()#一部动漫平均有638个评分，最少的是一部动漫有1个评分，最多的有34226个评分"
   ]
  },
  {
   "cell_type": "code",
   "execution_count": 24,
   "id": "65fb42e6",
   "metadata": {},
   "outputs": [
    {
     "data": {
      "text/plain": [
       "<AxesSubplot:ylabel='Frequency'>"
      ]
     },
     "execution_count": 24,
     "metadata": {},
     "output_type": "execute_result"
    },
    {
     "data": {
      "image/png": "[encoded data removed]",
      "text/plain": [
       "<Figure size 640x480 with 1 Axes>"
      ]
     },
     "metadata": {},
     "output_type": "display_data"
    }
   ],
   "source": [
    "valid_rating.groupby('anime_id')['rating'].count().plot.hist(bins=100,grid=False,color='green')\n",
    "#x轴电影评分数量区间划分， y轴，处在这个评分数量区间的电影的数量"
   ]
  },
  {
   "cell_type": "markdown",
   "id": "27955dea",
   "metadata": {},
   "source": [
    "#### 用户评分分布"
   ]
  },
  {
   "cell_type": "code",
   "execution_count": 25,
   "id": "21cc48ff",
   "metadata": {},
   "outputs": [
    {
     "data": {
      "text/html": [
       "<div>\n",
       "<style scoped>\n",
       "    .dataframe tbody tr th:only-of-type {\n",
       "        vertical-align: middle;\n",
       "    }\n",
       "\n",
       "    .dataframe tbody tr th {\n",
       "        vertical-align: top;\n",
       "    }\n",
       "\n",
       "    .dataframe thead th {\n",
       "        text-align: right;\n",
       "    }\n",
       "</style>\n",
       "<table border=\"1\" class=\"dataframe\">\n",
       "  <thead>\n",
       "    <tr style=\"text-align: right;\">\n",
       "      <th></th>\n",
       "      <th>anime_id</th>\n",
       "      <th>rating</th>\n",
       "    </tr>\n",
       "  </thead>\n",
       "  <tbody>\n",
       "    <tr>\n",
       "      <th>count</th>\n",
       "      <td>69600.000000</td>\n",
       "      <td>69600.000000</td>\n",
       "    </tr>\n",
       "    <tr>\n",
       "      <th>mean</th>\n",
       "      <td>91.052313</td>\n",
       "      <td>91.052313</td>\n",
       "    </tr>\n",
       "    <tr>\n",
       "      <th>std</th>\n",
       "      <td>135.764253</td>\n",
       "      <td>135.764253</td>\n",
       "    </tr>\n",
       "    <tr>\n",
       "      <th>min</th>\n",
       "      <td>1.000000</td>\n",
       "      <td>1.000000</td>\n",
       "    </tr>\n",
       "    <tr>\n",
       "      <th>25%</th>\n",
       "      <td>13.000000</td>\n",
       "      <td>13.000000</td>\n",
       "    </tr>\n",
       "    <tr>\n",
       "      <th>50%</th>\n",
       "      <td>45.000000</td>\n",
       "      <td>45.000000</td>\n",
       "    </tr>\n",
       "    <tr>\n",
       "      <th>75%</th>\n",
       "      <td>114.000000</td>\n",
       "      <td>114.000000</td>\n",
       "    </tr>\n",
       "    <tr>\n",
       "      <th>max</th>\n",
       "      <td>3747.000000</td>\n",
       "      <td>3747.000000</td>\n",
       "    </tr>\n",
       "  </tbody>\n",
       "</table>\n",
       "</div>"
      ],
      "text/plain": [
       "           anime_id        rating\n",
       "count  69600.000000  69600.000000\n",
       "mean      91.052313     91.052313\n",
       "std      135.764253    135.764253\n",
       "min        1.000000      1.000000\n",
       "25%       13.000000     13.000000\n",
       "50%       45.000000     45.000000\n",
       "75%      114.000000    114.000000\n",
       "max     3747.000000   3747.000000"
      ]
     },
     "execution_count": 25,
     "metadata": {},
     "output_type": "execute_result"
    }
   ],
   "source": [
    "valid_rating.groupby(\"user_id\").count().describe()"
   ]
  },
  {
   "cell_type": "code",
   "execution_count": 26,
   "id": "8b04bc93",
   "metadata": {},
   "outputs": [
    {
     "data": {
      "text/plain": [
       "<AxesSubplot:ylabel='Frequency'>"
      ]
     },
     "execution_count": 26,
     "metadata": {},
     "output_type": "execute_result"
    },
    {
     "data": {
      "image/png": "[encoded data removed]",
      "text/plain": [
       "<Figure size 640x480 with 1 Axes>"
      ]
     },
     "metadata": {},
     "output_type": "display_data"
    }
   ],
   "source": [
    "valid_rating.groupby(\"user_id\")[\"rating\"].count().plot.hist(bins=100,grid=True,alpha=0.8,color='purple')"
   ]
  },
  {
   "cell_type": "markdown",
   "id": "0f38e467",
   "metadata": {},
   "source": [
    "#### 动漫类型分布"
   ]
  },
  {
   "cell_type": "code",
   "execution_count": 27,
   "id": "9f607bc1",
   "metadata": {},
   "outputs": [],
   "source": [
    "genres={} "
   ]
  },
  {
   "cell_type": "code",
   "execution_count": 28,
   "id": "e98cdd22",
   "metadata": {},
   "outputs": [
    {
     "name": "stdout",
     "output_type": "stream",
     "text": [
      "{'D': 2497, 'r': 12186, 'a': 18507, 'm': 9143, ',': 23371, '': 26550, 'R': 1436, 'o': 19086, 'n': 15835, 'c': 14120, 'e': 22100, 'S': 9760, 'h': 5402, 'l': 5615, 'u': 8114, 'p': 2441, 't': 12317, 'A': 5415, 'i': 18441, 'd': 8723, 'v': 2293, 'F': 4247, 's': 7291, 'y': 8704, 'M': 3656, 'g': 968, 'C': 4554, 'H': 2558, 'P': 1262, '-': 2028, 'T': 86, 'w': 445, 'f': 2360, 'L': 1180, 'V': 100, 'j': 641, 'E': 627, 'J': 52, 'G': 170, 'K': 1550, 'Y': 78}\n"
     ]
    }
   ],
   "source": [
    "for (index, row) in anime_df.iterrows():\n",
    "        genre_anime=[g.strip() for g in row['genre']] \n",
    "        for genre in genre_anime:\n",
    "            if genre not in genres:\n",
    "                genres[genre]=0\n",
    "            genres[genre]+=1\n",
    "print(genres)"
   ]
  },
  {
   "cell_type": "code",
   "execution_count": 29,
   "id": "5e77fd30",
   "metadata": {},
   "outputs": [
    {
     "data": {
      "image/png": "[encoded data removed]",
      "text/plain": [
       "<Figure size 2000x1000 with 1 Axes>"
      ]
     },
     "metadata": {},
     "output_type": "display_data"
    }
   ],
   "source": [
    "fig=plt.figure(figsize=(20,10))\n",
    "ax=fig.add_axes([0,0,1,1])\n",
    "tuples=sorted(genres.items(),key=lambda x:x[1])\n",
    "labels=[t[0] for t in tuples]\n",
    "values=[t[1] for t in tuples]\n",
    "ax.bar(labels,values)\n",
    "plt.xticks(rotation=50,fontsize=17)\n",
    "plt.show()"
   ]
  },
  {
   "cell_type": "code",
   "execution_count": 30,
   "id": "cae2cec7",
   "metadata": {},
   "outputs": [],
   "source": [
    "type_anime={}"
   ]
  },
  {
   "cell_type": "code",
   "execution_count": 31,
   "id": "3195587b",
   "metadata": {},
   "outputs": [
    {
     "name": "stdout",
     "output_type": "stream",
     "text": [
      "{'Movie': 2258, 'TV': 3568, 'OVA': 3246, 'Special': 1665, 'Music': 487, 'ONA': 606}\n"
     ]
    }
   ],
   "source": [
    "for (index, row) in anime_df.iterrows():        \n",
    "    if row['type'] not in type_anime:\n",
    "        type_anime[row['type']]=0\n",
    "    type_anime[row['type']]+=1\n",
    "print(type_anime)"
   ]
  },
  {
   "cell_type": "code",
   "execution_count": 32,
   "id": "3294cca6",
   "metadata": {},
   "outputs": [
    {
     "data": {
      "image/png": "[encoded data removed]",
      "text/plain": [
       "<Figure size 500x300 with 1 Axes>"
      ]
     },
     "metadata": {},
     "output_type": "display_data"
    }
   ],
   "source": [
    "fig=plt.figure(figsize=(5,3))\n",
    "ax=fig.add_axes([0,0,1,1])\n",
    "tuples=sorted(type_anime.items(),key=lambda x:x[1])\n",
    "labels=[t[0] for t in tuples]\n",
    "values=[t[1] for t in tuples]\n",
    "ax.bar(labels,values)\n",
    "plt.xticks(rotation=50,fontsize=10)\n",
    "plt.show()"
   ]
  },
  {
   "cell_type": "code",
   "execution_count": 33,
   "id": "3e7478a8",
   "metadata": {},
   "outputs": [
    {
     "data": {
      "text/plain": [
       "<AxesSubplot:xlabel='type'>"
      ]
     },
     "execution_count": 33,
     "metadata": {},
     "output_type": "execute_result"
    },
    {
     "data": {
      "image/png": "[encoded data removed]",
      "text/plain": [
       "<Figure size 640x480 with 1 Axes>"
      ]
     },
     "metadata": {},
     "output_type": "display_data"
    }
   ],
   "source": [
    "anime_df.groupby('type')['episodes'].median().plot(kind='bar', color='green')"
   ]
  },
  {
   "cell_type": "markdown",
   "id": "77973678",
   "metadata": {},
   "source": [
    "### 1.4 评分前几名的动漫  <a class=\"anchor\" id=\"section_1_4\"></a>"
   ]
  },
  {
   "cell_type": "code",
   "execution_count": 34,
   "id": "57fcc224",
   "metadata": {},
   "outputs": [
    {
     "data": {
      "text/html": [
       "<div>\n",
       "<style scoped>\n",
       "    .dataframe tbody tr th:only-of-type {\n",
       "        vertical-align: middle;\n",
       "    }\n",
       "\n",
       "    .dataframe tbody tr th {\n",
       "        vertical-align: top;\n",
       "    }\n",
       "\n",
       "    .dataframe thead th {\n",
       "        text-align: right;\n",
       "    }\n",
       "</style>\n",
       "<table border=\"1\" class=\"dataframe\">\n",
       "  <thead>\n",
       "    <tr style=\"text-align: right;\">\n",
       "      <th></th>\n",
       "      <th>name</th>\n",
       "      <th>type</th>\n",
       "      <th>rating</th>\n",
       "    </tr>\n",
       "    <tr>\n",
       "      <th>anime_id</th>\n",
       "      <th></th>\n",
       "      <th></th>\n",
       "      <th></th>\n",
       "    </tr>\n",
       "  </thead>\n",
       "  <tbody>\n",
       "    <tr>\n",
       "      <th>33662</th>\n",
       "      <td>Taka no Tsume 8: Yoshida-kun no X-Files</td>\n",
       "      <td>Movie</td>\n",
       "      <td>10</td>\n",
       "    </tr>\n",
       "    <tr>\n",
       "      <th>918</th>\n",
       "      <td>Gintama</td>\n",
       "      <td>TV</td>\n",
       "      <td>9</td>\n",
       "    </tr>\n",
       "    <tr>\n",
       "      <th>23005</th>\n",
       "      <td>Mogura no Motoro</td>\n",
       "      <td>Movie</td>\n",
       "      <td>9</td>\n",
       "    </tr>\n",
       "    <tr>\n",
       "      <th>26145</th>\n",
       "      <td>Okaachan Gomen ne</td>\n",
       "      <td>Movie</td>\n",
       "      <td>9</td>\n",
       "    </tr>\n",
       "    <tr>\n",
       "      <th>33980</th>\n",
       "      <td>Mirai ni Mukete: Bousai wo Kangaeru</td>\n",
       "      <td>Movie</td>\n",
       "      <td>9</td>\n",
       "    </tr>\n",
       "    <tr>\n",
       "      <th>26259</th>\n",
       "      <td>Mienu Me ni Kanjita Kumotoriyama no Asahi</td>\n",
       "      <td>OVA</td>\n",
       "      <td>9</td>\n",
       "    </tr>\n",
       "    <tr>\n",
       "      <th>34191</th>\n",
       "      <td>Santa-san wa Dai Isogashi</td>\n",
       "      <td>OVA</td>\n",
       "      <td>9</td>\n",
       "    </tr>\n",
       "    <tr>\n",
       "      <th>32627</th>\n",
       "      <td>Shaka no Shougai</td>\n",
       "      <td>Movie</td>\n",
       "      <td>9</td>\n",
       "    </tr>\n",
       "    <tr>\n",
       "      <th>32796</th>\n",
       "      <td>Shenmi Shijie Lixian Ji</td>\n",
       "      <td>Movie</td>\n",
       "      <td>9</td>\n",
       "    </tr>\n",
       "    <tr>\n",
       "      <th>33607</th>\n",
       "      <td>Kahei no Umi</td>\n",
       "      <td>Movie</td>\n",
       "      <td>9</td>\n",
       "    </tr>\n",
       "    <tr>\n",
       "      <th>26313</th>\n",
       "      <td>Yakusoku: Africa Mizu to Midori</td>\n",
       "      <td>OVA</td>\n",
       "      <td>9</td>\n",
       "    </tr>\n",
       "    <tr>\n",
       "      <th>5114</th>\n",
       "      <td>Fullmetal Alchemist: Brotherhood</td>\n",
       "      <td>TV</td>\n",
       "      <td>9</td>\n",
       "    </tr>\n",
       "    <tr>\n",
       "      <th>32281</th>\n",
       "      <td>Kimi no Na wa.</td>\n",
       "      <td>Movie</td>\n",
       "      <td>9</td>\n",
       "    </tr>\n",
       "    <tr>\n",
       "      <th>15335</th>\n",
       "      <td>Gintama Movie: Kanketsu-hen - Yorozuya yo Eien...</td>\n",
       "      <td>Movie</td>\n",
       "      <td>9</td>\n",
       "    </tr>\n",
       "    <tr>\n",
       "      <th>28851</th>\n",
       "      <td>Koe no Katachi</td>\n",
       "      <td>Movie</td>\n",
       "      <td>9</td>\n",
       "    </tr>\n",
       "    <tr>\n",
       "      <th>4181</th>\n",
       "      <td>Clannad: After Story</td>\n",
       "      <td>TV</td>\n",
       "      <td>9</td>\n",
       "    </tr>\n",
       "    <tr>\n",
       "      <th>28977</th>\n",
       "      <td>Gintama°</td>\n",
       "      <td>TV</td>\n",
       "      <td>9</td>\n",
       "    </tr>\n",
       "    <tr>\n",
       "      <th>9253</th>\n",
       "      <td>Steins;Gate</td>\n",
       "      <td>TV</td>\n",
       "      <td>9</td>\n",
       "    </tr>\n",
       "    <tr>\n",
       "      <th>9969</th>\n",
       "      <td>Gintama&amp;#039;</td>\n",
       "      <td>TV</td>\n",
       "      <td>9</td>\n",
       "    </tr>\n",
       "    <tr>\n",
       "      <th>11061</th>\n",
       "      <td>Hunter x Hunter (2011)</td>\n",
       "      <td>TV</td>\n",
       "      <td>9</td>\n",
       "    </tr>\n",
       "  </tbody>\n",
       "</table>\n",
       "</div>"
      ],
      "text/plain": [
       "                                                       name   type  rating\n",
       "anime_id                                                                  \n",
       "33662               Taka no Tsume 8: Yoshida-kun no X-Files  Movie      10\n",
       "918                                                 Gintama     TV       9\n",
       "23005                                      Mogura no Motoro  Movie       9\n",
       "26145                                     Okaachan Gomen ne  Movie       9\n",
       "33980                   Mirai ni Mukete: Bousai wo Kangaeru  Movie       9\n",
       "26259             Mienu Me ni Kanjita Kumotoriyama no Asahi    OVA       9\n",
       "34191                             Santa-san wa Dai Isogashi    OVA       9\n",
       "32627                                      Shaka no Shougai  Movie       9\n",
       "32796                               Shenmi Shijie Lixian Ji  Movie       9\n",
       "33607                                          Kahei no Umi  Movie       9\n",
       "26313                       Yakusoku: Africa Mizu to Midori    OVA       9\n",
       "5114                       Fullmetal Alchemist: Brotherhood     TV       9\n",
       "32281                                        Kimi no Na wa.  Movie       9\n",
       "15335     Gintama Movie: Kanketsu-hen - Yorozuya yo Eien...  Movie       9\n",
       "28851                                        Koe no Katachi  Movie       9\n",
       "4181                                   Clannad: After Story     TV       9\n",
       "28977                                              Gintama°     TV       9\n",
       "9253                                            Steins;Gate     TV       9\n",
       "9969                                          Gintama&#039;     TV       9\n",
       "11061                                Hunter x Hunter (2011)     TV       9"
      ]
     },
     "execution_count": 34,
     "metadata": {},
     "output_type": "execute_result"
    }
   ],
   "source": [
    "#anime_id是index，所以不能当做列来取\n",
    "top20_animes=anime_df.sort_values(by='rating',ascending=False)[['name','type','rating']].iloc[:20]\n",
    "top20_animes"
   ]
  },
  {
   "cell_type": "code",
   "execution_count": 35,
   "id": "4bfcf5fc",
   "metadata": {},
   "outputs": [
    {
     "data": {
      "text/plain": [
       "3"
      ]
     },
     "execution_count": 35,
     "metadata": {},
     "output_type": "execute_result"
    }
   ],
   "source": [
    "top20_animes['type'].nunique()"
   ]
  },
  {
   "cell_type": "code",
   "execution_count": 36,
   "id": "bafb8af9",
   "metadata": {},
   "outputs": [
    {
     "data": {
      "text/plain": [
       "type\n",
       "Movie    10\n",
       "OVA       3\n",
       "TV        7\n",
       "Name: rating, dtype: int64"
      ]
     },
     "execution_count": 36,
     "metadata": {},
     "output_type": "execute_result"
    }
   ],
   "source": [
    "top20_animes.groupby('type')['rating'].count()#受欢迎程度按照每种类型的评价数量，评价数量越多的，越受欢迎"
   ]
  },
  {
   "cell_type": "code",
   "execution_count": 37,
   "id": "eceb6542",
   "metadata": {},
   "outputs": [
    {
     "data": {
      "text/plain": [
       "type\n",
       "Movie    9.1\n",
       "OVA      9.0\n",
       "TV       9.0\n",
       "Name: rating, dtype: float64"
      ]
     },
     "execution_count": 37,
     "metadata": {},
     "output_type": "execute_result"
    }
   ],
   "source": [
    "top20_animes.groupby('type')['rating'].mean()#按照评分高低来衡量受欢迎程度。评分高的种类越瘦欢迎"
   ]
  },
  {
   "cell_type": "markdown",
   "id": "b4b2e209",
   "metadata": {},
   "source": [
    "### 1.5 评分数量和评分高低的关系  <a class=\"anchor\" id=\"section_1_5\"></a>"
   ]
  },
  {
   "cell_type": "code",
   "execution_count": 38,
   "id": "1b0dc8f1",
   "metadata": {},
   "outputs": [],
   "source": [
    "groupby_df=valid_rating.groupby('anime_id').agg({'rating':['count','mean']}).droplevel(axis=1,level=0)"
   ]
  },
  {
   "cell_type": "code",
   "execution_count": 39,
   "id": "64ca6d12",
   "metadata": {},
   "outputs": [],
   "source": [
    "groupby_df=valid_rating.groupby('anime_id').agg({'rating':['count','mean']}).droplevel(axis=1,level=0)"
   ]
  },
  {
   "cell_type": "markdown",
   "id": "64522e32",
   "metadata": {},
   "source": [
    "### 1.6 Scrapy抓取动漫数据  <a id=\"section_1_6\"></a>"
   ]
  },
  {
   "cell_type": "markdown",
   "id": "0b42654e",
   "metadata": {},
   "source": [
    "从 myanimelist.net爬取动漫数据，动漫详情页,海报图片url，上映时间的html标签如下\\\n"
   ]
  },
  {
   "cell_type": "markdown",
   "id": "e597af8e",
   "metadata": {},
   "source": [
    "在scrapy框架下编写spider"
   ]
  },
  {
   "cell_type": "code",
   "execution_count": null,
   "id": "6fb54c2d",
   "metadata": {},
   "outputs": [],
   "source": [
    "BASE_URL = 'https://myanimelist.net/anime'\n",
    "\n",
    "class AnimeSpider(scrapy.Spider):\n",
    "    name = \"anime\"\n",
    "\n",
    "    def start_requests(self):\n",
    "        with open('../../data/anime/anime.csv') as csv_file:\n",
    "            reader = csv.DictReader(csv_file)\n",
    "            anime_ids = [row[\"anime_id\"] for row in reader]\n",
    "\n",
    "            with open('output.csv') as output_file:\n",
    "                output_reader = csv.DictReader(output_file)\n",
    "                existing_anime_ids = [row['anime_id'] for row in output_reader]\n",
    "\n",
    "                anime_ids = [id for id in anime_ids if id not in existing_anime_ids]\n",
    "\n",
    "                for id in anime_ids:\n",
    "                    yield scrapy.Request(url=f'{BASE_URL}/{id}', callback=self.parse, meta={'anime_id': id})"
   ]
  },
  {
   "cell_type": "markdown",
   "id": "7bd74ec2",
   "metadata": {},
   "source": [
    "网页解析"
   ]
  },
  {
   "cell_type": "code",
   "execution_count": null,
   "id": "7e9738f0",
   "metadata": {},
   "outputs": [],
   "source": [
    "def parse(self, response):\n",
    "        anime_id = response.meta.get(\"anime_id\")\n",
    "\n",
    "        japanese_titles = response.xpath(\"//span[contains(text(), 'Japanese')]/../text()\").getall()\n",
    "        japanese_titles = [text.strip() for text in japanese_titles]\n",
    "        japanese_titles = [text for text in japanese_titles if len(text) > 0][0]\n",
    "\n",
    "        aired = response.xpath(\"//span[contains(text(), 'Aired')]/../text()\").getall()\n",
    "        aired = [text.strip() for text in aired]\n",
    "        aired = [text for text in aired if len(text) > 0][0]\n",
    "\n",
    "        image_url = response.xpath(\"//a[contains(@href, 'pics')]/img/@data-src\").getall()[0]\n",
    "\n",
    "        print(f\"{japanese_titles}    {aired}\")\n",
    "\n",
    "        yield {\n",
    "            'anime_id': anime_id,\n",
    "            'japanese_title': japanese_titles,\n",
    "            'aired': aired,\n",
    "            'image_url': image_url\n",
    "        }"
   ]
  },
  {
   "cell_type": "markdown",
   "id": "e051324f",
   "metadata": {},
   "source": [
    "# 2. 召回层 <a id=\"chapter2\"></a>"
   ]
  },
  {
   "cell_type": "code",
   "execution_count": 51,
   "id": "cd115fdb",
   "metadata": {},
   "outputs": [],
   "source": [
    "import pyspark\n",
    "from pyspark import SparkContext\n",
    "from pyspark.sql import SparkSession\n",
    "from pyspark.sql.functions import *"
   ]
  },
  {
   "cell_type": "markdown",
   "id": "69140df3",
   "metadata": {},
   "source": [
    "### 2.1 Deepwalk创建物品序列 <a id=\"section_2_1\"></a>"
   ]
  },
  {
   "cell_type": "code",
   "execution_count": 52,
   "id": "ef040478",
   "metadata": {},
   "outputs": [],
   "source": [
    "spark= SparkSession\\\n",
    "       .builder\\\n",
    "       .appName(\"concre-reall\")\\\n",
    "       .getOrCreate()"
   ]
  },
  {
   "cell_type": "code",
   "execution_count": 53,
   "id": "e1c48979",
   "metadata": {},
   "outputs": [
    {
     "name": "stdout",
     "output_type": "stream",
     "text": [
      "root\n",
      " |-- user_id: integer (nullable = true)\n",
      " |-- anime_id: integer (nullable = true)\n",
      " |-- rating: integer (nullable = true)\n",
      "\n"
     ]
    }
   ],
   "source": [
    "rating_df=spark.read.csv('E:/Recomendation_sys_project/archive/rating.csv',header=True, inferSchema=True)\n",
    "rating_df.printSchema()\n",
    "rating_df=rating_df.where('rating>7.5')#评分大于7.5分的用户行为才表示推荐该电影"
   ]
  },
  {
   "cell_type": "code",
   "execution_count": 54,
   "id": "2ddaa5f1",
   "metadata": {},
   "outputs": [],
   "source": [
    "watch_seq_df=rating_df.groupby('user_id').agg(collect_list(col('anime_id').cast('string')).alias(\"anime_ids\"))"
   ]
  },
  {
   "cell_type": "code",
   "execution_count": 55,
   "id": "cd95b8d4",
   "metadata": {},
   "outputs": [
    {
     "name": "stdout",
     "output_type": "stream",
     "text": [
      "+-------+--------------------+\n",
      "|user_id|           anime_ids|\n",
      "+-------+--------------------+\n",
      "|     31|[2581, 3784, 3785...|\n",
      "|     34|[20, 30, 32, 147,...|\n",
      "|     53|[101, 849, 1195, ...|\n",
      "|     65|[687, 853, 1221, ...|\n",
      "|     78|       [4224, 18153]|\n",
      "|     85|[223, 356, 481, 5...|\n",
      "|    108|[57, 61, 132, 147...|\n",
      "|    137|         [121, 5114]|\n",
      "|    148|[20, 81, 170, 263...|\n",
      "|    155|[164, 199, 226, 3...|\n",
      "+-------+--------------------+\n",
      "only showing top 10 rows\n",
      "\n"
     ]
    }
   ],
   "source": [
    "watch_seq_df.show(10)"
   ]
  },
  {
   "cell_type": "markdown",
   "id": "61e45ac1",
   "metadata": {},
   "source": [
    "这里数据是评分7分以上的电影，所以这里有一个假设，所有用户的评分行为表示用户喜欢和推荐该电影。\n",
    "构建邻接矩阵就是构建graph embedding， 每一个nodes之间出现连接线表示同时出现在某一个用户的评分列表里，如果两部电影之间被多个用户评价（喜爱），那这显示了两部电影之间有某种关系（或者相似度），所以可以形成序列。 根据这个序列放到word2vec的算法里计训练出的每一个动漫的embedding, 是使用用户行为反应两个动漫之间的相似度"
   ]
  },
  {
   "cell_type": "code",
   "execution_count": 56,
   "id": "061ec2fd",
   "metadata": {},
   "outputs": [],
   "source": [
    "watch_seq=watch_seq_df.collect()"
   ]
  },
  {
   "cell_type": "code",
   "execution_count": 57,
   "id": "6f0b99d3",
   "metadata": {},
   "outputs": [
    {
     "data": {
      "text/plain": [
       "Row(user_id=31, anime_ids=['2581', '3784', '3785', '5680', '6347', '6634', '7791', '8516', '8769', '8841', '9471', '9617', '9760', '9919', '9938', '10087', '10408', '10793', '10897', '11499', '11737', '11741', '11757', '11843', '12291', '13055', '13759', '14467', '14741', '14811', '14813', '15225', '15315', '15687', '15699', '15809', '15879', '16005', '16417', '16524'])"
      ]
     },
     "execution_count": 57,
     "metadata": {},
     "output_type": "execute_result"
    }
   ],
   "source": [
    "watch_seq[0]"
   ]
  },
  {
   "cell_type": "code",
   "execution_count": 58,
   "id": "b029d286",
   "metadata": {},
   "outputs": [],
   "source": [
    "watch_seq1=[ w['anime_ids'] for w in watch_seq ]#形成的是一个二维的list"
   ]
  },
  {
   "cell_type": "code",
   "execution_count": 59,
   "id": "0beda9ab",
   "metadata": {},
   "outputs": [
    {
     "data": {
      "text/plain": [
       "defaultdict(<function __main__.<lambda>()>, {})"
      ]
     },
     "execution_count": 59,
     "metadata": {},
     "output_type": "execute_result"
    }
   ],
   "source": [
    "from collections import defaultdict\n",
    "matrix=defaultdict(lambda:defaultdict(int))\n",
    "matrix"
   ]
  },
  {
   "cell_type": "code",
   "execution_count": 60,
   "id": "1198e113",
   "metadata": {},
   "outputs": [],
   "source": [
    "for i in range(len(watch_seq1)):\n",
    "    seq=watch_seq1[i]\n",
    "    for j in range(len(seq)):\n",
    "        for k in range(j+1,len(seq)):\n",
    "            a=seq[j]\n",
    "            b=seq[k]\n",
    "            if a==b:\n",
    "                continue\n",
    "            matrix[a][b]+=1\n",
    "            matrix[b][a]+=1"
   ]
  },
  {
   "cell_type": "markdown",
   "id": "1efca3cf",
   "metadata": {},
   "source": [
    "#### 概率转移矩阵"
   ]
  },
  {
   "cell_type": "markdown",
   "id": "24a0e4c5",
   "metadata": {},
   "source": [
    " 这里数据是评分7分以上的电影，所以这里有一个假设，所以用户的评分行为表示用户喜欢和推荐该电影"
   ]
  },
  {
   "cell_type": "code",
   "execution_count": 61,
   "id": "ab81d6b3",
   "metadata": {},
   "outputs": [],
   "source": [
    "trans_probs=defaultdict(lambda: defaultdict(list))"
   ]
  },
  {
   "cell_type": "code",
   "execution_count": 62,
   "id": "b622200d",
   "metadata": {},
   "outputs": [],
   "source": [
    "trans_probs=defaultdict(lambda: defaultdict(list))\n",
    "def get_transfer_probs(vs):\n",
    "    neighbours=list(vs.keys())\n",
    "    total_weight=__builtin__.sum(vs.values())\n",
    "    probs=[weight/total_weight for weight in vs.values()]\n",
    "    return neighbours,probs"
   ]
  },
  {
   "cell_type": "code",
   "execution_count": 63,
   "id": "d703ee85",
   "metadata": {},
   "outputs": [],
   "source": [
    "for keys,indict in matrix.items():\n",
    "    neigh,probs=get_transfer_probs(indict)\n",
    "    trans_probs[keys]['neighbours']=neigh\n",
    "    trans_probs[keys][\"probs\"]=probs"
   ]
  },
  {
   "cell_type": "markdown",
   "id": "2d142b1c",
   "metadata": {},
   "source": [
    "#### 随机选取入口node"
   ]
  },
  {
   "cell_type": "code",
   "execution_count": 64,
   "id": "4d8505dc",
   "metadata": {},
   "outputs": [],
   "source": [
    "entrence_items=list(trans_probs.keys())"
   ]
  },
  {
   "cell_type": "code",
   "execution_count": 65,
   "id": "6d7cd48f",
   "metadata": {},
   "outputs": [],
   "source": [
    "nodes_sum={i:__builtin__.sum(matrix[i].values()) for i in entrence_items}"
   ]
  },
  {
   "cell_type": "code",
   "execution_count": 66,
   "id": "e1fd0cea",
   "metadata": {},
   "outputs": [],
   "source": [
    "total_sum=__builtin__.sum(nodes_sum.values())"
   ]
  },
  {
   "cell_type": "code",
   "execution_count": 67,
   "id": "ac658ff2",
   "metadata": {},
   "outputs": [],
   "source": [
    "entren_probs=[v/total_sum for k,v in nodes_sum.items()]"
   ]
  },
  {
   "cell_type": "markdown",
   "id": "3d2f2c74",
   "metadata": {},
   "source": [
    "#### Deepwalk"
   ]
  },
  {
   "cell_type": "code",
   "execution_count": 68,
   "id": "344f8d21",
   "metadata": {},
   "outputs": [],
   "source": [
    "#1次deep walk的采样\n",
    "rng= np.random.default_rng()\n",
    "def one_walk(length,entrence_items,entrence_probs,transfer_probs):\n",
    "    path=[]\n",
    "    start_point=rng.choice(entrence_items,1,p=entrence_probs)[0]\n",
    "    path.append(str(start_point))\n",
    "    current_point=start_point\n",
    "    for _ in range(length):\n",
    "        next_point=rng.choice(transfer_probs[current_point]['neighbours'], 1, p=transfer_probs[current_point]['probs'])[0]\n",
    "        path.append(str(next_point))\n",
    "        current_point=next_point\n",
    "    return path"
   ]
  },
  {
   "cell_type": "code",
   "execution_count": 69,
   "id": "556ec6f4",
   "metadata": {},
   "outputs": [],
   "source": [
    "n=10000#在实际的工作中，这个值可以更大，采样500是不够用的\n",
    "deepwalk_sample=[one_walk(19,entrence_items,entren_probs,trans_probs) for _ in range(n)]"
   ]
  },
  {
   "cell_type": "code",
   "execution_count": 70,
   "id": "57c4daaa",
   "metadata": {},
   "outputs": [
    {
     "data": {
      "text/plain": [
       "10000"
      ]
     },
     "execution_count": 70,
     "metadata": {},
     "output_type": "execute_result"
    }
   ],
   "source": [
    "len(deepwalk_sample)"
   ]
  },
  {
   "cell_type": "markdown",
   "id": "f7add6c1",
   "metadata": {},
   "source": [
    "### 2.2 Item2vec训练物品和用户Embedding <a id=\"section_2_2\"></a>"
   ]
  },
  {
   "cell_type": "code",
   "execution_count": 71,
   "id": "d3e76e52",
   "metadata": {},
   "outputs": [],
   "source": [
    "from pyspark.ml.feature import Word2Vec"
   ]
  },
  {
   "cell_type": "code",
   "execution_count": 72,
   "id": "990277e8",
   "metadata": {},
   "outputs": [],
   "source": [
    "# 要用spark的word2vec，所以要将原始的list转化成spark的df\n",
    "deepwalk_df=spark.createDataFrame([[row] for row in deepwalk_sample],['anime_ids'])"
   ]
  },
  {
   "cell_type": "code",
   "execution_count": 73,
   "id": "f99ceffe",
   "metadata": {},
   "outputs": [
    {
     "name": "stdout",
     "output_type": "stream",
     "text": [
      "+--------------------+\n",
      "|           anime_ids|\n",
      "+--------------------+\n",
      "|[10357, 13601, 83...|\n",
      "|[102, 437, 3470, ...|\n",
      "|[10259, 553, 957,...|\n",
      "|[889, 27831, 3196...|\n",
      "|[71, 102, 343, 16...|\n",
      "|[18893, 8630, 670...|\n",
      "|[2251, 801, 138, ...|\n",
      "|[5162, 3712, 1473...|\n",
      "|[27833, 26349, 65...|\n",
      "|[28285, 30390, 26...|\n",
      "+--------------------+\n",
      "only showing top 10 rows\n",
      "\n"
     ]
    }
   ],
   "source": [
    "deepwalk_df.show(10)"
   ]
  },
  {
   "cell_type": "code",
   "execution_count": 74,
   "id": "69551522",
   "metadata": {},
   "outputs": [
    {
     "data": {
      "text/plain": [
       "Word2Vec_801903d1725b"
      ]
     },
     "execution_count": 74,
     "metadata": {},
     "output_type": "execute_result"
    }
   ],
   "source": [
    "item2vec=Word2Vec(vectorSize=5,maxIter=2,windowSize=15)\n",
    "item2vec.setInputCol('anime_ids')\n",
    "item2vec.setOutputCol('anime_ids_vec')"
   ]
  },
  {
   "cell_type": "code",
   "execution_count": 75,
   "id": "42ab05a2",
   "metadata": {},
   "outputs": [],
   "source": [
    "model=item2vec.fit(deepwalk_df)"
   ]
  },
  {
   "cell_type": "code",
   "execution_count": 76,
   "id": "b344edeb",
   "metadata": {},
   "outputs": [],
   "source": [
    "rec=model.findSynonyms('12293',10)"
   ]
  },
  {
   "cell_type": "code",
   "execution_count": 77,
   "id": "b03662bc",
   "metadata": {},
   "outputs": [
    {
     "name": "stdout",
     "output_type": "stream",
     "text": [
      "+-----+------------------+\n",
      "| word|        similarity|\n",
      "+-----+------------------+\n",
      "|28881|0.9943350553512573|\n",
      "| 1018|0.9928957223892212|\n",
      "|15359|0.9894927144050598|\n",
      "|16904|  0.98778235912323|\n",
      "|17074|0.9866194725036621|\n",
      "| 2514|0.9834409952163696|\n",
      "|23283|0.9806155562400818|\n",
      "|10711|  0.97883141040802|\n",
      "| 1256|0.9785686731338501|\n",
      "| 9712|0.9766817092895508|\n",
      "+-----+------------------+\n",
      "\n"
     ]
    }
   ],
   "source": [
    "#和12293 anime_id相似的动漫\n",
    "rec.show()"
   ]
  },
  {
   "cell_type": "code",
   "execution_count": 78,
   "id": "4bcb0835",
   "metadata": {},
   "outputs": [],
   "source": [
    "anime_df=pd.read_csv('E:/Recomendation_sys_project/archive/parsed_anime.csv',sep=',')\n",
    "def show_anime_info(aid,anime_df):\n",
    "    info=anime_df[anime_df['anime_id']==aid].iloc[0]\n",
    "    print(aid,info['name'],info['genre'],info['type'],info['episodes'],info['japanese_title'])"
   ]
  },
  {
   "cell_type": "code",
   "execution_count": 79,
   "id": "6b9bcef7",
   "metadata": {},
   "outputs": [
    {
     "name": "stdout",
     "output_type": "stream",
     "text": [
      "12293 Campione!: Matsurowanu Kamigami to Kamigoroshi no Maou Comedy, Ecchi, Fantasy, Harem, Magic, Romance TV 13 カンピオーネ！ ～まつろわぬ神々と神殺しの魔王～\n"
     ]
    }
   ],
   "source": [
    "show_anime_info(12293,anime_df)"
   ]
  },
  {
   "cell_type": "code",
   "execution_count": 80,
   "id": "4def897b",
   "metadata": {},
   "outputs": [
    {
     "name": "stdout",
     "output_type": "stream",
     "text": [
      "28881 New Initial D Movie: Legend 2 - Tousou Cars, Seinen, Sports Movie 1 新劇場版　頭文字［イニシャル］D Legend2 -闘走-\n",
      "1018 Majutsushi Orphen: Revenge Adventure, Comedy, Fantasy, Magic, Shounen TV 23 魔術士オーフェンRevenge\n",
      "15359 Kyousou Giga (2012) Action, Fantasy, Supernatural ONA 5 京騒戯画\n",
      "16904 K: Missing Kings Action, Super Power, Supernatural Movie 1 K MISSING KINGS\n",
      "17074 Monogatari Series: Second Season Comedy, Mystery, Romance, Supernatural, Vampire TV 26 〈物語〉シリーズ セカンドシーズン\n",
      "2514 Detective Conan OVA 04: Conan and Kid and Crystal Mother Adventure, Mystery, Police, Shounen OVA 1 名探偵コナン: コナンとキッドとクリスタルマザー\n",
      "23283 Zankyou no Terror Psychological, Thriller TV 11 残響のテロル\n",
      "10711 Plastic Neesan Comedy, School ONA 12 ＋チック姉さん\n",
      "1256 Saint Seiya: Jashin Eris Adventure, Sci-Fi, Shounen Movie 1 聖闘士星矢 邪神エリス\n",
      "9712 Maria†Holic Alive Comedy, Parody, School, Shoujo Ai TV 12 まりあ†ほりっく あらいぶ\n"
     ]
    }
   ],
   "source": [
    "for row in rec.collect():\n",
    "    show_anime_info(int(row['word']),anime_df)"
   ]
  },
  {
   "cell_type": "markdown",
   "id": "d4ec771e",
   "metadata": {},
   "source": [
    "#### user Embedding "
   ]
  },
  {
   "cell_type": "markdown",
   "id": "c320e293",
   "metadata": {},
   "source": [
    "计算用户的Embedding，这里不需要重新构建用户序列来构建用户\\\n",
    "业界常用的方法就是用用户喜欢的动漫的embedding去构用户的Embedding，用这个用户的喜欢的动漫的embedding的平均数来构建用户的embedding,背后的数学知识可以去拓展一下,这个方法在实际工作中很实际很有效"
   ]
  },
  {
   "cell_type": "code",
   "execution_count": 81,
   "id": "b3cfc17b",
   "metadata": {},
   "outputs": [],
   "source": [
    "anime_embedding=model.getVectors().collect()"
   ]
  },
  {
   "cell_type": "code",
   "execution_count": 82,
   "id": "454c6200",
   "metadata": {},
   "outputs": [],
   "source": [
    "anime_embedding_dict={}\n",
    "for row in anime_embedding:\n",
    "        anime_embedding_dict[row['word']]=row['vector'].toArray()"
   ]
  },
  {
   "cell_type": "code",
   "execution_count": 83,
   "id": "e38b63a7",
   "metadata": {},
   "outputs": [],
   "source": [
    "@udf(returnType='array<float>')\n",
    "def get_anime_embedding(col):\n",
    "    user_anime_embeddings=[anime_embedding_dict[aid] if aid in anime_embedding_dict else [] for aid in col]\n",
    "    #过滤掉空的list\n",
    "    #__builtin__.filter(function, iterable) 会检查里面一个一个的元素，前面的function返回true就留在list里，不满足就被删除掉\n",
    "    #另外的一个写法user_anime_embeddings=[e for e in user_anime_embeddings if len(e)>0]\n",
    "    user_anime_embeddings=list(__builtin__.filter(lambda x:(len(x)>0),user_anime_embeddings))\n",
    "    \n",
    "    if not user_anime_embeddings:\n",
    "        return []\n",
    "    user_embedding=np.mean(user_anime_embeddings,axis=0)\n",
    "    return user_embedding.tolist()"
   ]
  },
  {
   "cell_type": "code",
   "execution_count": 84,
   "id": "b4b275ba",
   "metadata": {},
   "outputs": [],
   "source": [
    "user_emd_df=watch_seq_df.withColumn('user_embedding',get_anime_embedding(col('anime_ids')))"
   ]
  },
  {
   "cell_type": "code",
   "execution_count": 85,
   "id": "5de1ae34",
   "metadata": {},
   "outputs": [
    {
     "name": "stdout",
     "output_type": "stream",
     "text": [
      "+-------+--------------------+--------------------+\n",
      "|user_id|           anime_ids|      user_embedding|\n",
      "+-------+--------------------+--------------------+\n",
      "|     31|[2581, 3784, 3785...|[-0.16534768, -0....|\n",
      "|     34|[20, 30, 32, 147,...|[-0.21643454, -0....|\n",
      "|     53|[101, 849, 1195, ...|[-0.16089639, -0....|\n",
      "|     65|[687, 853, 1221, ...|[-0.15135884, -0....|\n",
      "|     78|       [4224, 18153]|[-0.08032584, -0....|\n",
      "|     85|[223, 356, 481, 5...|[-0.18453135, -0....|\n",
      "|    108|[57, 61, 132, 147...|[-0.17900786, -0....|\n",
      "|    137|         [121, 5114]|[-0.21894813, -0....|\n",
      "|    148|[20, 81, 170, 263...|[-0.19074963, -0....|\n",
      "|    155|[164, 199, 226, 3...|[-0.19674842, -0....|\n",
      "|    193|            [1, 205]|[-0.18421005, -0....|\n",
      "|    211|[199, 877, 1535, ...|[-0.19143154, -0....|\n",
      "|    243|[223, 269, 853, 1...|[-0.1861835, -0.0...|\n",
      "|    251|[813, 2001, 9756,...|[-0.13488548, -0....|\n",
      "|    255|[199, 269, 431, 2...|[-0.22314133, -0....|\n",
      "|    296|[1, 6, 15, 17, 20...|[-0.18772782, -0....|\n",
      "|    321|[121, 227, 889, 1...|[-0.19455597, -0....|\n",
      "|    322|[20, 226, 356, 12...|[-0.2059239, -0.0...|\n",
      "|    362|        [3457, 5682]|[-0.09943397, -0....|\n",
      "|    368|[20, 246, 1195, 1...|[-0.17885077, -0....|\n",
      "+-------+--------------------+--------------------+\n",
      "only showing top 20 rows\n",
      "\n"
     ]
    }
   ],
   "source": [
    "user_emd_df.show()"
   ]
  },
  {
   "cell_type": "markdown",
   "id": "b2b3615e",
   "metadata": {},
   "source": [
    "### 2.3 保存训练好的Embedding到Redis <a id=\"section_2_3\"></a>"
   ]
  },
  {
   "cell_type": "markdown",
   "id": "7d87c1fe",
   "metadata": {},
   "source": [
    "大部分情况下存储Embedding 都是用key value的方式存储"
   ]
  },
  {
   "cell_type": "code",
   "execution_count": null,
   "id": "ee9409c8",
   "metadata": {},
   "outputs": [],
   "source": [
    "from redis import Redis"
   ]
  },
  {
   "cell_type": "code",
   "execution_count": null,
   "id": "e9d79506",
   "metadata": {},
   "outputs": [],
   "source": [
    "redis=Redis()"
   ]
  },
  {
   "cell_type": "markdown",
   "id": "171d1965",
   "metadata": {},
   "source": [
    "redis只能存储string类型的数据,将vec转成string"
   ]
  },
  {
   "cell_type": "code",
   "execution_count": 46,
   "id": "2d3e6d9b",
   "metadata": {},
   "outputs": [],
   "source": [
    "def vec2string(emb):\n",
    "    return ':'.join(str(i) for i in emb)\n",
    "\n",
    "def save_to_redis(df):\n",
    "    user_emd_row=df.collect()\n",
    "    emb_dict={}\n",
    "    emb_dict={row.user_id: vec2string(row.user_embedding) for row in user_emd_row}\n",
    "    redis.hset('recall-use-embedding',mapping=emb_dict)\n"
   ]
  },
  {
   "cell_type": "code",
   "execution_count": 49,
   "id": "90051e7d",
   "metadata": {},
   "outputs": [],
   "source": [
    "#'name:j:nn:d'.split(':')-->['name', 'j', 'nn', 'd'] spliT之后存成一个list\n",
    "def str2vec(emb):\n",
    "    return [float(i)for i in emb.split(':')]"
   ]
  },
  {
   "cell_type": "code",
   "execution_count": 48,
   "id": "4e006188",
   "metadata": {},
   "outputs": [],
   "source": [
    "def read_user_emd():\n",
    "    re=redis.hgetall('recall-use-embedding')\n",
    "    return ({key.decode():  str2vec(value) for key,value in re.items()})"
   ]
  },
  {
   "cell_type": "markdown",
   "id": "ed1d86ee",
   "metadata": {},
   "source": [
    "### 2.4 LSH最近邻查找 <a id=\"section_2_4\"></a>"
   ]
  },
  {
   "cell_type": "code",
   "execution_count": 94,
   "id": "73580180",
   "metadata": {},
   "outputs": [],
   "source": [
    "import faiss"
   ]
  },
  {
   "cell_type": "code",
   "execution_count": 95,
   "id": "0f4d8d8f",
   "metadata": {},
   "outputs": [],
   "source": [
    "emb_item={r.word: r.vector.toArray() for r in anime_embedding}\n",
    "emb_item=list(__builtin__.filter(lambda x: len(x[1])>0,emb_item.items()))"
   ]
  },
  {
   "cell_type": "code",
   "execution_count": 96,
   "id": "85172948",
   "metadata": {},
   "outputs": [],
   "source": [
    "# dict.item()得到是里面键值对形成元组\n",
    "emb_item_key=[i[0] for i in emb_item]"
   ]
  },
  {
   "cell_type": "code",
   "execution_count": 89,
   "id": "e159f71f",
   "metadata": {},
   "outputs": [],
   "source": [
    "emb_item_vec=[i[1] for i in emb_item]"
   ]
  },
  {
   "cell_type": "code",
   "execution_count": 90,
   "id": "f1b74bdd",
   "metadata": {},
   "outputs": [],
   "source": [
    "index=faiss.IndexLSH(len(emb_item_vec[0]),256)"
   ]
  },
  {
   "cell_type": "code",
   "execution_count": 91,
   "id": "6197e485",
   "metadata": {},
   "outputs": [],
   "source": [
    "index.add(np.asarray(emb_item_vec,dtype=np.float32))#一次性对所有Embedding训练，之后直接取用，不用每次都训练。"
   ]
  },
  {
   "cell_type": "code",
   "execution_count": 92,
   "id": "50d2a0f0",
   "metadata": {},
   "outputs": [],
   "source": [
    "D,I =index.search(np.asarray([emb_item_vec[99]],dtype=np.float32),10)"
   ]
  },
  {
   "cell_type": "code",
   "execution_count": 93,
   "id": "00c771f4",
   "metadata": {},
   "outputs": [
    {
     "name": "stdout",
     "output_type": "stream",
     "text": [
      "[[ 0. 11. 11. 12. 12. 15. 15. 15. 15. 15.]]\n",
      "[[  99  528 2830 1297 1793  566 2363 3016 3052 3423]]\n"
     ]
    }
   ],
   "source": [
    "print(D)\n",
    "print(I)"
   ]
  },
  {
   "cell_type": "markdown",
   "id": "8c72a677",
   "metadata": {},
   "source": [
    "# 3.排序层<a id=\"chapter3\"></a>"
   ]
  },
  {
   "cell_type": "markdown",
   "id": "e209e528",
   "metadata": {},
   "source": [
    "### 3.1构建用户特征 <a id=\"section_3_1\"></a>"
   ]
  },
  {
   "cell_type": "code",
   "execution_count": 97,
   "id": "9ed99b38",
   "metadata": {},
   "outputs": [],
   "source": [
    "from pyspark.sql.types import IntegerType\n",
    "anime_df=spark.read.csv('E:/Recomendation_sys_project/archive/parsed_anime.csv',header=True, inferSchema=True)\n",
    "#\n",
    "anime_df=anime_df\\\n",
    "         .withColumnRenamed(\"rating\",'all_rating')\\\n",
    "         .withColumn('aired_from',col('aired_from').cast('int'))\\\n",
    "         .filter( col('genre').isNotNull()&\n",
    "                  col('all_rating').isNotNull()&\n",
    "                  col('aired_from').isNotNull()&\n",
    "                  col(\"aired_to\").isNotNull()\n",
    "                )\\\n",
    "         .withColumn('episodes',col('episodes').cast('int'))"
   ]
  },
  {
   "cell_type": "code",
   "execution_count": 98,
   "id": "38a4d1f2",
   "metadata": {},
   "outputs": [
    {
     "name": "stdout",
     "output_type": "stream",
     "text": [
      "root\n",
      " |-- anime_id: integer (nullable = true)\n",
      " |-- name: string (nullable = true)\n",
      " |-- genre: string (nullable = true)\n",
      " |-- type: string (nullable = true)\n",
      " |-- episodes: integer (nullable = true)\n",
      " |-- all_rating: double (nullable = true)\n",
      " |-- members: integer (nullable = true)\n",
      " |-- japanese_title: string (nullable = true)\n",
      " |-- aired: string (nullable = true)\n",
      " |-- image_url: string (nullable = true)\n",
      " |-- aired_from: integer (nullable = true)\n",
      " |-- aired_to: integer (nullable = true)\n",
      "\n"
     ]
    }
   ],
   "source": [
    "anime_df.printSchema()"
   ]
  },
  {
   "cell_type": "code",
   "execution_count": 99,
   "id": "4f180581",
   "metadata": {},
   "outputs": [
    {
     "name": "stdout",
     "output_type": "stream",
     "text": [
      "root\n",
      " |-- user_id: integer (nullable = true)\n",
      " |-- anime_id: integer (nullable = true)\n",
      " |-- rating: integer (nullable = true)\n",
      "\n"
     ]
    }
   ],
   "source": [
    "#rating_df的ratinng列没有空值\n",
    "rating_df_rank=spark.read.csv('E:/Recomendation_sys_project/archive/rating.csv',header=True, inferSchema=True)\n",
    "rating_df_rank=rating_df.where('rating>0')#评分大于7.5分的用户行为才表示推荐该电影\n",
    "rating_df_rank.printSchema()"
   ]
  },
  {
   "cell_type": "code",
   "execution_count": 100,
   "id": "4010ce24",
   "metadata": {},
   "outputs": [],
   "source": [
    "like_threshold=7.5\n",
    "merged_df=rating_df_rank.join(\n",
    "          anime_df.select('anime_id','name','genre','type','episodes','all_rating','members','aired_from','aired_to'),\n",
    "          on='anime_id',how='left'\n",
    "    \n",
    ").withColumn(\n",
    "    'label',\n",
    "    when(col('rating')>like_threshold,1).otherwise(0)\n",
    "             \n",
    "    ).filter(col('all_rating').isNotNull()|col('genre').isNotNull()| col('members').isNotNull())"
   ]
  },
  {
   "cell_type": "code",
   "execution_count": 101,
   "id": "b7bb8a2a",
   "metadata": {},
   "outputs": [
    {
     "data": {
      "text/plain": [
       "3855820"
      ]
     },
     "execution_count": 101,
     "metadata": {},
     "output_type": "execute_result"
    }
   ],
   "source": [
    "merged_df.count()"
   ]
  },
  {
   "cell_type": "markdown",
   "id": "2338bdfe",
   "metadata": {},
   "source": [
    "### 3.2特征工程-数值特征缩放 <a id=\"section_3_2\"></a>"
   ]
  },
  {
   "cell_type": "markdown",
   "id": "742fdcbe",
   "metadata": {},
   "source": [
    "#### numberic features: Standardization"
   ]
  },
  {
   "cell_type": "code",
   "execution_count": 102,
   "id": "b5b6d898",
   "metadata": {},
   "outputs": [],
   "source": [
    "from pyspark.ml.feature import MinMaxScaler,VectorAssembler,StandardScaler\n",
    "from pyspark.ml import Pipeline\n",
    "from pyspark.sql import functions as F\n",
    "import pyspark.sql.types as types "
   ]
  },
  {
   "cell_type": "code",
   "execution_count": 103,
   "id": "eb9f3050",
   "metadata": {},
   "outputs": [],
   "source": [
    "@udf(types.FloatType())\n",
    "def extract_float(s):\n",
    "    NUMBER_PRECISION=2\n",
    "    r=__builtin__.round(s[0],NUMBER_PRECISION)\n",
    "    return float(r)"
   ]
  },
  {
   "cell_type": "code",
   "execution_count": 104,
   "id": "9035aff9",
   "metadata": {},
   "outputs": [],
   "source": [
    "class numbericScaler():\n",
    "    def __init__(self, cols):\n",
    "        self.cols=cols\n",
    "        self.pipelines=self.__numeric_col(cols)\n",
    "        \n",
    "    def __numeric_col(self,cols):\n",
    "        pipelines=[self.__numeric_single_col(col) for col in self.cols]\n",
    "        Pipeline(stages=pipelines)\n",
    "        return Pipeline(stages=pipelines)\n",
    "        \n",
    "    \n",
    "    def __numeric_single_col(self, col):\n",
    "        vec=VectorAssembler(inputCols=[col], outputCol=f'{col}_vec',handleInvalid='keep')\n",
    "        scaler=StandardScaler(inputCol=f'{col}_vec', outputCol=f'{col}_Standardization',withMean=True,withStd=True)\n",
    "        pipeline=Pipeline(stages=[vec,scaler])\n",
    "        return pipeline\n",
    "    \n",
    "    def fit(self,df):\n",
    "        self.model=self.pipelines.fit(df)#self.model是一个实例化变量，可以被在numericScaler类的其他的方法中使用\n",
    "        \n",
    "    def transform(self,df):\n",
    "        result=self.model.transform(df)\n",
    "        #drop all intermedia cols and covert output to float\n",
    "        for col in self.cols: \n",
    "            result=result\\\n",
    "               .drop(f'{col}_vec')\\\n",
    "               .withColumn(f'{col}_Standardization',extract_float(F.col(f'{col}_Standardization')))\n",
    "        return result\n",
    "        "
   ]
  },
  {
   "cell_type": "markdown",
   "id": "bdfb9f7e",
   "metadata": {},
   "source": [
    "### 3.3特征工程-离散特征多热编码 <a id=\"section_3_3\"></a>"
   ]
  },
  {
   "cell_type": "markdown",
   "id": "36d706a7",
   "metadata": {},
   "source": [
    "\n",
    "#### categorical data - multi hot"
   ]
  },
  {
   "cell_type": "code",
   "execution_count": 105,
   "id": "cb239e4e",
   "metadata": {},
   "outputs": [],
   "source": [
    "from pyspark.ml.feature import StringIndexer\n",
    "from pyspark.ml.linalg import SparseVector"
   ]
  },
  {
   "cell_type": "code",
   "execution_count": 106,
   "id": "a6a6aff1",
   "metadata": {},
   "outputs": [],
   "source": [
    "def encode_genres_col(index_mapping_broadcasted):\n",
    "    @udf(returnType='array<int>')\n",
    "    def encode_genres_col(colvalue,max_genre_index):\n",
    "        if  colvalue is None:\n",
    "            colvalue=[]\n",
    "        genre_index=[index_mapping_broadcasted.value.get(i) for i in colvalue]\n",
    "        genre_index=list(set(genre_index))\n",
    "        \n",
    "        fill=np.ones(len(genre_index),dtype=np.int32)\n",
    "        sorted_index=np.sort(genre_index)\n",
    "        multi_hot=SparseVector(max_genre_index+1,sorted_index,fill)\n",
    "        return multi_hot.toArray().astype(np.int32).tolist()\n",
    "    \n",
    "    return encode_genres_col    \n",
    "    "
   ]
  },
  {
   "cell_type": "code",
   "execution_count": 107,
   "id": "bfbb7e85",
   "metadata": {},
   "outputs": [],
   "source": [
    "class CategoricalEncoder:\n",
    "    def __init__(self,colname):\n",
    "        self.colname=colname       \n",
    "    \n",
    "    def fit(self,df):\n",
    "\n",
    "        explode_df=df\\\n",
    "                   .withColumn(f'{self.colname}_item',explode(col(self.colname)))\n",
    "        \n",
    "        col_string=StringIndexer(inputCol=f'{self.colname}_item',outputCol=f'{self.colname}_index')\n",
    "        model=col_string.fit(explode_df)\n",
    "        labels_df=spark.createDataFrame(\n",
    "                  [{f'{self.colname}_item': g} for g in model.labels]\n",
    "              )\n",
    "        mapping_df=model.transform(labels_df).collect()\n",
    "        mapping_dict={row[f'{self.colname}_item'] : int(row[f'{self.colname}_index']) for row in mapping_df}\n",
    "        self.max_index=__builtin__.max(mapping_dict.values())\n",
    "        broadcast=spark.sparkContext.broadcast(mapping_dict)\n",
    "        self.encode_fn=encode_genres_col(broadcast)\n",
    "    \n",
    "    def transform(self,df):\n",
    "            result=df.withColumn(f'{self.colname}_multihot',\n",
    "                           self.encode_fn(col(self.colname),lit(self.max_index)))\n",
    "            \n",
    "            return result\n",
    "    "
   ]
  },
  {
   "cell_type": "markdown",
   "id": "0c977446",
   "metadata": {},
   "source": [
    "#### 构建DNN训练数据"
   ]
  },
  {
   "cell_type": "code",
   "execution_count": 108,
   "id": "d8da4bc7",
   "metadata": {},
   "outputs": [],
   "source": [
    "from pyspark.sql import Window\n",
    "from collections import Counter"
   ]
  },
  {
   "cell_type": "code",
   "execution_count": 109,
   "id": "5a28c510",
   "metadata": {},
   "outputs": [],
   "source": [
    "windowSpec=Window\\\n",
    "       .partitionBy('user_id')\\\n",
    "       .orderBy('aired_from')\\\n",
    "       .rowsBetween(-100,-1)"
   ]
  },
  {
   "cell_type": "code",
   "execution_count": 110,
   "id": "40c70a84",
   "metadata": {},
   "outputs": [],
   "source": [
    "likeAnimeCol=lambda colname: when(col('label')==1,col(colname)).otherwise(None)\n",
    "\n",
    "\n",
    "@udf(returnType='array<string>')\n",
    "def genre_to_list(gen_str):\n",
    "    if gen_str is None:\n",
    "        return []\n",
    "    \n",
    "    gens=gen_str.split(',')\n",
    "    return [g.strip() for g in gens]\n",
    "\n",
    "@udf(returnType='array<string>')\n",
    "def type_to_list(type_str):\n",
    "    if type_str is None:\n",
    "        return []\n",
    "    return [type_str.strip()]\n",
    "\n",
    "    \n",
    "#chose first 5 like genre\n",
    "\n",
    "@udf(returnType='array<string>')\n",
    "def most_liked_genre(collect_str):\n",
    "    #collect_str is list like ['action,drama,sci-fi','drama,adventure']  \n",
    "    genre=[i.split(',') for  i in collect_str]\n",
    "    genre_list=[ge.strip() for i in genre for ge in i]\n",
    "    genre_dict=dict(Counter(genre_list))\n",
    "    genre_list_sorted=sorted(genre_dict.items(),key=lambda x:x[1],reverse=True)\n",
    "    #select first 5 genre as users' most like\n",
    "    most_like_genres=[key for key,value in genre_list_sorted[:5]]\n",
    "    return most_like_genres\n",
    "\n",
    "@udf(returnType='array<string>')\n",
    "def most_liked_type(collect_type_list):\n",
    "    #['move','music']\n",
    "    collect_type=[c.strip() for c in collect_type_list]\n",
    "    type_dict=dict(Counter(collect_type))\n",
    "    #[('movie',5),('music',3)]\n",
    "    sorted_type_list=sorted(type_dict.items(),key=lambda x: x[1],reverse=True)#x[1]就是以值来排序,拍完序之后返回的是一个list，不是dict\n",
    "    #sorted_type_dict[:2]这样索引的切分只能用于list，tuple，string,不能用于dict\n",
    "    if len(sorted_type_list)==0:\n",
    "        return None\n",
    "    elif len(sorted_type_list)<2:\n",
    "        return [k for k,v in sorted_type_list]\n",
    "    \n",
    "    most_liked_type=[k for k,v in sorted_type_list[:2]]\n",
    "    return most_liked_type"
   ]
  },
  {
   "cell_type": "code",
   "execution_count": 111,
   "id": "0d6e9e8c",
   "metadata": {},
   "outputs": [],
   "source": [
    "feat_df=merged_df\\\n",
    "         .withColumn('genres',genre_to_list(col('genre')))\\\n",
    "         .withColumn('types',type_to_list(col('type')))\\\n",
    "         .withColumn('user_rating_cnt',count(lit(1)).over(windowSpec))\\\n",
    "         .withColumn('user_rating_ave',mean(col('rating')).over(windowSpec))\\\n",
    "         .withColumn('user_rating_ave',F.round(col('user_rating_ave'),2))\\\n",
    "         .withColumn('user_rating_std',stddev(col('rating')).over(windowSpec))\\\n",
    "         .withColumn('user_rating_std',F.round(col('user_rating_std'),2))\\\n",
    "         .withColumn('user_aired_from_ave', mean(likeAnimeCol('aired_from')).over(windowSpec))\\\n",
    "         .withColumn('user_aired_from_ave',F.round(col('user_aired_from_ave'),0))\\\n",
    "         .withColumn('user_aired_to_ave',mean(likeAnimeCol('aired_to')).over(windowSpec))\\\n",
    "         .withColumn('user_aired_to_ave',F.round(col('user_aired_to_ave'),0))\\\n",
    "         .withColumn('user_liked_genres',most_liked_genre(collect_list(likeAnimeCol('genre')).over(windowSpec)))\\\n",
    "         .withColumn('user_liked_type',most_liked_type(collect_list(likeAnimeCol('type')).over(windowSpec)))\\\n",
    "         .withColumn('user_episodes_ave',mean(likeAnimeCol('episodes')).over(windowSpec))\\\n",
    "         .withColumn('user_episodes_ave',F.round(col('user_episodes_ave'),0))"
   ]
  },
  {
   "cell_type": "code",
   "execution_count": 112,
   "id": "9eeb67a2",
   "metadata": {},
   "outputs": [
    {
     "name": "stdout",
     "output_type": "stream",
     "text": [
      "-RECORD 0-----------------------------------\n",
      " anime_id            | 2581                 \n",
      " user_id             | 31                   \n",
      " rating              | 9                    \n",
      " name                | Mobile Suit Gunda... \n",
      " genre               | Action, Drama, Me... \n",
      " type                | TV                   \n",
      " episodes            | 25                   \n",
      " all_rating          | 8.24                 \n",
      " members             | 120351               \n",
      " aired_from          | 1191600000           \n",
      " aired_to            | 1206720000           \n",
      " label               | 1                    \n",
      " genres              | [Action, Drama, M... \n",
      " types               | [TV]                 \n",
      " user_rating_cnt     | 0                    \n",
      " user_rating_ave     | NULL                 \n",
      " user_rating_std     | NULL                 \n",
      " user_aired_from_ave | NULL                 \n",
      " user_aired_to_ave   | NULL                 \n",
      " user_liked_genres   | []                   \n",
      " user_liked_type     | NULL                 \n",
      " user_episodes_ave   | NULL                 \n",
      "-RECORD 1-----------------------------------\n",
      " anime_id            | 5680                 \n",
      " user_id             | 31                   \n",
      " rating              | 9                    \n",
      " name                | K-On!                \n",
      " genre               | Comedy, Music, Sc... \n",
      " type                | TV                   \n",
      " episodes            | 13                   \n",
      " all_rating          | 7.87                 \n",
      " members             | 386048               \n",
      " aired_from          | 1238688000           \n",
      " aired_to            | 1245945600           \n",
      " label               | 1                    \n",
      " genres              | [Comedy, Music, S... \n",
      " types               | [TV]                 \n",
      " user_rating_cnt     | 1                    \n",
      " user_rating_ave     | 9.0                  \n",
      " user_rating_std     | NULL                 \n",
      " user_aired_from_ave | 1.1916E9             \n",
      " user_aired_to_ave   | 1.20672E9            \n",
      " user_liked_genres   | [Action, Drama, M... \n",
      " user_liked_type     | [TV]                 \n",
      " user_episodes_ave   | 25.0                 \n",
      "-RECORD 2-----------------------------------\n",
      " anime_id            | 3784                 \n",
      " user_id             | 31                   \n",
      " rating              | 8                    \n",
      " name                | Evangelion: 2.0 Y... \n",
      " genre               | Action, Mecha, Sc... \n",
      " type                | Movie                \n",
      " episodes            | 1                    \n",
      " all_rating          | 8.53                 \n",
      " members             | 182224               \n",
      " aired_from          | 1248624000           \n",
      " aired_to            | 1248624000           \n",
      " label               | 1                    \n",
      " genres              | [Action, Mecha, S... \n",
      " types               | [Movie]              \n",
      " user_rating_cnt     | 2                    \n",
      " user_rating_ave     | 9.0                  \n",
      " user_rating_std     | 0.0                  \n",
      " user_aired_from_ave | 1.215144E9           \n",
      " user_aired_to_ave   | 1.2263328E9          \n",
      " user_liked_genres   | [Action, Drama, M... \n",
      " user_liked_type     | [TV]                 \n",
      " user_episodes_ave   | 19.0                 \n",
      "-RECORD 3-----------------------------------\n",
      " anime_id            | 6347                 \n",
      " user_id             | 31                   \n",
      " rating              | 9                    \n",
      " name                | Baka to Test to S... \n",
      " genre               | Comedy, Romance, ... \n",
      " type                | TV                   \n",
      " episodes            | 13                   \n",
      " all_rating          | 7.83                 \n",
      " members             | 301282               \n",
      " aired_from          | 1262793600           \n",
      " aired_to            | 1270051200           \n",
      " label               | 1                    \n",
      " genres              | [Comedy, Romance,... \n",
      " types               | [TV]                 \n",
      " user_rating_cnt     | 3                    \n",
      " user_rating_ave     | 8.67                 \n",
      " user_rating_std     | 0.58                 \n",
      " user_aired_from_ave | 1.226304E9           \n",
      " user_aired_to_ave   | 1.2337632E9          \n",
      " user_liked_genres   | [Action, Mecha, S... \n",
      " user_liked_type     | [TV, Movie]          \n",
      " user_episodes_ave   | 13.0                 \n",
      "-RECORD 4-----------------------------------\n",
      " anime_id            | 7791                 \n",
      " user_id             | 31                   \n",
      " rating              | 9                    \n",
      " name                | K-On!!               \n",
      " genre               | Comedy, Music, Sc... \n",
      " type                | TV                   \n",
      " episodes            | 26                   \n",
      " all_rating          | 8.14                 \n",
      " members             | 246276               \n",
      " aired_from          | 1270569600           \n",
      " aired_to            | 1285689600           \n",
      " label               | 1                    \n",
      " genres              | [Comedy, Music, S... \n",
      " types               | [TV]                 \n",
      " user_rating_cnt     | 4                    \n",
      " user_rating_ave     | 8.75                 \n",
      " user_rating_std     | 0.5                  \n",
      " user_aired_from_ave | 1.2354264E9          \n",
      " user_aired_to_ave   | 1.2428352E9          \n",
      " user_liked_genres   | [Action, Mecha, S... \n",
      " user_liked_type     | [TV, Movie]          \n",
      " user_episodes_ave   | 13.0                 \n",
      "-RECORD 5-----------------------------------\n",
      " anime_id            | 6634                 \n",
      " user_id             | 31                   \n",
      " rating              | 9                    \n",
      " name                | Sengoku Basara Two   \n",
      " genre               | Action, Historica... \n",
      " type                | TV                   \n",
      " episodes            | 12                   \n",
      " all_rating          | 7.74                 \n",
      " members             | 42798                \n",
      " aired_from          | 1278777600           \n",
      " aired_to            | 1285430400           \n",
      " label               | 1                    \n",
      " genres              | [Action, Historic... \n",
      " types               | [TV]                 \n",
      " user_rating_cnt     | 5                    \n",
      " user_rating_ave     | 8.8                  \n",
      " user_rating_std     | 0.45                 \n",
      " user_aired_from_ave | 1.24245504E9         \n",
      " user_aired_to_ave   | 1.25140608E9         \n",
      " user_liked_genres   | [Comedy, School, ... \n",
      " user_liked_type     | [TV, Movie]          \n",
      " user_episodes_ave   | 16.0                 \n",
      "-RECORD 6-----------------------------------\n",
      " anime_id            | 8769                 \n",
      " user_id             | 31                   \n",
      " rating              | 8                    \n",
      " name                | Ore no Imouto ga ... \n",
      " genre               | Comedy, Seinen, S... \n",
      " type                | TV                   \n",
      " episodes            | 12                   \n",
      " all_rating          | 7.49                 \n",
      " members             | 321477               \n",
      " aired_from          | 1286035200           \n",
      " aired_to            | 1292688000           \n",
      " label               | 1                    \n",
      " genres              | [Comedy, Seinen, ... \n",
      " types               | [TV]                 \n",
      " user_rating_cnt     | 6                    \n",
      " user_rating_ave     | 8.83                 \n",
      " user_rating_std     | 0.41                 \n",
      " user_aired_from_ave | 1.2485088E9          \n",
      " user_aired_to_ave   | 1.2570768E9          \n",
      " user_liked_genres   | [Action, Comedy, ... \n",
      " user_liked_type     | [TV, Movie]          \n",
      " user_episodes_ave   | 15.0                 \n",
      "-RECORD 7-----------------------------------\n",
      " anime_id            | 8841                 \n",
      " user_id             | 31                   \n",
      " rating              | 8                    \n",
      " name                | Kore wa Zombie De... \n",
      " genre               | Action, Comedy, E... \n",
      " type                | TV                   \n",
      " episodes            | 12                   \n",
      " all_rating          | 7.67                 \n",
      " members             | 295782               \n",
      " aired_from          | 1294675200           \n",
      " aired_to            | 1301414400           \n",
      " label               | 1                    \n",
      " genres              | [Action, Comedy, ... \n",
      " types               | [TV]                 \n",
      " user_rating_cnt     | 7                    \n",
      " user_rating_ave     | 8.71                 \n",
      " user_rating_std     | 0.49                 \n",
      " user_aired_from_ave | 1.253869714E9        \n",
      " user_aired_to_ave   | 1.262164114E9        \n",
      " user_liked_genres   | [Comedy, Action, ... \n",
      " user_liked_type     | [TV, Movie]          \n",
      " user_episodes_ave   | 15.0                 \n",
      "-RECORD 8-----------------------------------\n",
      " anime_id            | 9471                 \n",
      " user_id             | 31                   \n",
      " rating              | 8                    \n",
      " name                | Baka to Test to S... \n",
      " genre               | Comedy, School, S... \n",
      " type                | OVA                  \n",
      " episodes            | 2                    \n",
      " all_rating          | 7.8                  \n",
      " members             | 67684                \n",
      " aired_from          | 1298390400           \n",
      " aired_to            | 1301414400           \n",
      " label               | 1                    \n",
      " genres              | [Comedy, School, ... \n",
      " types               | [OVA]                \n",
      " user_rating_cnt     | 8                    \n",
      " user_rating_ave     | 8.63                 \n",
      " user_rating_std     | 0.52                 \n",
      " user_aired_from_ave | 1.2589704E9          \n",
      " user_aired_to_ave   | 1.2670704E9          \n",
      " user_liked_genres   | [Comedy, Action, ... \n",
      " user_liked_type     | [TV, Movie]          \n",
      " user_episodes_ave   | 14.0                 \n",
      "-RECORD 9-----------------------------------\n",
      " anime_id            | 9919                 \n",
      " user_id             | 31                   \n",
      " rating              | 8                    \n",
      " name                | Ao no Exorcist       \n",
      " genre               | Action, Demons, F... \n",
      " type                | TV                   \n",
      " episodes            | 25                   \n",
      " all_rating          | 7.92                 \n",
      " members             | 583823               \n",
      " aired_from          | 1302969600           \n",
      " aired_to            | 1317484800           \n",
      " label               | 1                    \n",
      " genres              | [Action, Demons, ... \n",
      " types               | [TV]                 \n",
      " user_rating_cnt     | 9                    \n",
      " user_rating_ave     | 8.56                 \n",
      " user_rating_std     | 0.53                 \n",
      " user_aired_from_ave | 1.2633504E9          \n",
      " user_aired_to_ave   | 1.2708864E9          \n",
      " user_liked_genres   | [Comedy, Action, ... \n",
      " user_liked_type     | [TV, Movie]          \n",
      " user_episodes_ave   | 13.0                 \n",
      "-RECORD 10----------------------------------\n",
      " anime_id            | 9760                 \n",
      " user_id             | 31                   \n",
      " rating              | 8                    \n",
      " name                | Hoshi wo Ou Kodomo   \n",
      " genre               | Adventure, Fantas... \n",
      " type                | Movie                \n",
      " episodes            | 1                    \n",
      " all_rating          | 7.81                 \n",
      " members             | 76286                \n",
      " aired_from          | 1304697600           \n",
      " aired_to            | 1304697600           \n",
      " label               | 1                    \n",
      " genres              | [Adventure, Fanta... \n",
      " types               | [Movie]              \n",
      " user_rating_cnt     | 10                   \n",
      " user_rating_ave     | 8.5                  \n",
      " user_rating_std     | 0.53                 \n",
      " user_aired_from_ave | 1.26731232E9         \n",
      " user_aired_to_ave   | 1.27554624E9         \n",
      " user_liked_genres   | [Comedy, Action, ... \n",
      " user_liked_type     | [TV, Movie]          \n",
      " user_episodes_ave   | 14.0                 \n",
      "-RECORD 11----------------------------------\n",
      " anime_id            | 9938                 \n",
      " user_id             | 31                   \n",
      " rating              | 9                    \n",
      " name                | Ikoku Meiro no Cr... \n",
      " genre               | Historical, Seine... \n",
      " type                | TV                   \n",
      " episodes            | 12                   \n",
      " all_rating          | 7.48                 \n",
      " members             | 38652                \n",
      " aired_from          | 1309708800           \n",
      " aired_to            | 1316361600           \n",
      " label               | 1                    \n",
      " genres              | [Historical, Sein... \n",
      " types               | [TV]                 \n",
      " user_rating_cnt     | 11                   \n",
      " user_rating_ave     | 8.45                 \n",
      " user_rating_std     | 0.52                 \n",
      " user_aired_from_ave | 1.270710982E9        \n",
      " user_aired_to_ave   | 1.278196364E9        \n",
      " user_liked_genres   | [Comedy, Action, ... \n",
      " user_liked_type     | [TV, Movie]          \n",
      " user_episodes_ave   | 13.0                 \n",
      "-RECORD 12----------------------------------\n",
      " anime_id            | 8516                 \n",
      " user_id             | 31                   \n",
      " rating              | 9                    \n",
      " name                | Baka to Test to S... \n",
      " genre               | Comedy, Romance, ... \n",
      " type                | TV                   \n",
      " episodes            | 13                   \n",
      " all_rating          | 7.98                 \n",
      " members             | 183722               \n",
      " aired_from          | 1310054400           \n",
      " aired_to            | 1317312000           \n",
      " label               | 1                    \n",
      " genres              | [Comedy, Romance,... \n",
      " types               | [TV]                 \n",
      " user_rating_cnt     | 12                   \n",
      " user_rating_ave     | 8.5                  \n",
      " user_rating_std     | 0.52                 \n",
      " user_aired_from_ave | 1.2739608E9          \n",
      " user_aired_to_ave   | 1.2813768E9          \n",
      " user_liked_genres   | [Comedy, Action, ... \n",
      " user_liked_type     | [TV, Movie]          \n",
      " user_episodes_ave   | 13.0                 \n",
      "-RECORD 13----------------------------------\n",
      " anime_id            | 10408                \n",
      " user_id             | 31                   \n",
      " rating              | 9                    \n",
      " name                | Hotarubi no Mori e   \n",
      " genre               | Drama, Romance, S... \n",
      " type                | Movie                \n",
      " episodes            | 1                    \n",
      " all_rating          | 8.61                 \n",
      " members             | 197439               \n",
      " aired_from          | 1316188800           \n",
      " aired_to            | 1316188800           \n",
      " label               | 1                    \n",
      " genres              | [Drama, Romance, ... \n",
      " types               | [Movie]              \n",
      " user_rating_cnt     | 13                   \n",
      " user_rating_ave     | 8.54                 \n",
      " user_rating_std     | 0.52                 \n",
      " user_aired_from_ave | 1.276737231E9        \n",
      " user_aired_to_ave   | 1.284141046E9        \n",
      " user_liked_genres   | [Comedy, Action, ... \n",
      " user_liked_type     | [TV, Movie]          \n",
      " user_episodes_ave   | 13.0                 \n",
      "-RECORD 14----------------------------------\n",
      " anime_id            | 10897                \n",
      " user_id             | 31                   \n",
      " rating              | 8                    \n",
      " name                | Boku wa Tomodachi... \n",
      " genre               | Comedy, Romance, ... \n",
      " type                | OVA                  \n",
      " episodes            | 1                    \n",
      " all_rating          | 6.85                 \n",
      " members             | 69233                \n",
      " aired_from          | 1316620800           \n",
      " aired_to            | 1316620800           \n",
      " label               | 1                    \n",
      " genres              | [Comedy, Romance,... \n",
      " types               | [OVA]                \n",
      " user_rating_cnt     | 14                   \n",
      " user_rating_ave     | 8.57                 \n",
      " user_rating_std     | 0.51                 \n",
      " user_aired_from_ave | 1.2795552E9          \n",
      " user_aired_to_ave   | 1.286430171E9        \n",
      " user_liked_genres   | [Comedy, Action, ... \n",
      " user_liked_type     | [TV, Movie]          \n",
      " user_episodes_ave   | 12.0                 \n",
      "only showing top 15 rows\n",
      "\n"
     ]
    }
   ],
   "source": [
    "feat_df.show(15,vertical=True)"
   ]
  },
  {
   "cell_type": "code",
   "execution_count": 113,
   "id": "e5ad9b40",
   "metadata": {},
   "outputs": [],
   "source": [
    "feat_df=feat_df\\\n",
    ".filter(col('user_rating_ave').isNotNull())\\\n",
    ".filter(col('user_rating_std')!=0.0)\\\n",
    ".filter(col('user_rating_std').isNotNull())\\\n",
    ".filter(col('user_aired_from_ave').isNotNull())\\\n",
    ".filter(col('user_aired_to_ave').isNotNull())\\\n",
    ".filter(col('user_episodes_ave').isNotNull())\\\n",
    ".filter(col('episodes').isNotNull())"
   ]
  },
  {
   "cell_type": "code",
   "execution_count": 114,
   "id": "2355c6c2",
   "metadata": {},
   "outputs": [
    {
     "data": {
      "text/plain": [
       "3617190"
      ]
     },
     "execution_count": 114,
     "metadata": {},
     "output_type": "execute_result"
    }
   ],
   "source": [
    "feat_df.count()"
   ]
  },
  {
   "cell_type": "markdown",
   "id": "e0635151",
   "metadata": {},
   "source": [
    "1.Trian item numeric "
   ]
  },
  {
   "cell_type": "code",
   "execution_count": 115,
   "id": "1f0bb7f2",
   "metadata": {},
   "outputs": [],
   "source": [
    "item_numeric_cols=[\n",
    "    'all_rating',\n",
    "    'members',\n",
    "    'aired_from',\n",
    "    'aired_to',\n",
    "    'episodes'\n",
    "]\n",
    "item_numeric_scaler=numbericScaler(item_numeric_cols)"
   ]
  },
  {
   "cell_type": "code",
   "execution_count": 116,
   "id": "88441556",
   "metadata": {},
   "outputs": [],
   "source": [
    "item_numeric_scaler.fit(feat_df)"
   ]
  },
  {
   "cell_type": "markdown",
   "id": "c0a41746",
   "metadata": {},
   "source": [
    "2.Train user numeric"
   ]
  },
  {
   "cell_type": "code",
   "execution_count": 117,
   "id": "000cf30c",
   "metadata": {},
   "outputs": [],
   "source": [
    "user_numeric_cols=[\n",
    "    'user_rating_ave',\n",
    "    'user_rating_std',\n",
    "    'user_aired_from_ave',\n",
    "    'user_aired_to_ave',\n",
    "    'user_episodes_ave'\n",
    "    \n",
    "]\n",
    "user_numeric_scaler=numbericScaler(user_numeric_cols)"
   ]
  },
  {
   "cell_type": "code",
   "execution_count": 118,
   "id": "08d3f801",
   "metadata": {},
   "outputs": [],
   "source": [
    "user_numeric_scaler.fit(feat_df)"
   ]
  },
  {
   "cell_type": "markdown",
   "id": "7b334b26",
   "metadata": {},
   "source": [
    "3.Train item categorical "
   ]
  },
  {
   "cell_type": "code",
   "execution_count": 119,
   "id": "13c5b1df",
   "metadata": {},
   "outputs": [],
   "source": [
    "item_categorical_encoder_g=CategoricalEncoder('genres')\n",
    "item_categorical_encoder_g.fit(feat_df)\n",
    "\n",
    "item_categorical_encoder_t=CategoricalEncoder('types')\n",
    "item_categorical_encoder_t.fit(feat_df)"
   ]
  },
  {
   "cell_type": "markdown",
   "id": "fee66558",
   "metadata": {},
   "source": [
    "4.Train user cattegorical"
   ]
  },
  {
   "cell_type": "code",
   "execution_count": 120,
   "id": "0f6e61a6",
   "metadata": {},
   "outputs": [],
   "source": [
    "user_categorical_encoder_g=CategoricalEncoder('user_liked_genres')\n",
    "user_categorical_encoder_g.fit(feat_df)\n",
    "\n",
    "user_categorical_encoder_t=CategoricalEncoder('user_liked_type')\n",
    "user_categorical_encoder_t.fit(feat_df)"
   ]
  },
  {
   "cell_type": "markdown",
   "id": "9b46ddd8",
   "metadata": {},
   "source": [
    "#### Transform"
   ]
  },
  {
   "cell_type": "markdown",
   "id": "5d809cf9",
   "metadata": {},
   "source": [
    "1.user & item numeric"
   ]
  },
  {
   "cell_type": "code",
   "execution_count": 121,
   "id": "d7e92da9",
   "metadata": {},
   "outputs": [],
   "source": [
    "transformed_df=item_numeric_scaler.transform(feat_df)\n",
    "transformed_df=user_numeric_scaler.transform(transformed_df)"
   ]
  },
  {
   "cell_type": "markdown",
   "id": "3817552a",
   "metadata": {},
   "source": [
    "2.user & item categorical"
   ]
  },
  {
   "cell_type": "code",
   "execution_count": null,
   "id": "393c5b17",
   "metadata": {},
   "outputs": [],
   "source": [
    "transformed_df=item_categorical_encoder_g.transform(transformed_df)\n",
    "transformed_df=item_categorical_encoder_t.transform(transformed_df)\n",
    "transformed_df=user_categorical_encoder_g.transform(transformed_df)\n",
    "transformed_df=user_categorical_encoder_t.transform(transformed_df)"
   ]
  },
  {
   "cell_type": "code",
   "execution_count": 123,
   "id": "c93a1a21",
   "metadata": {},
   "outputs": [
    {
     "name": "stdout",
     "output_type": "stream",
     "text": [
      "-RECORD 0---------------------------------------------------\n",
      " anime_id                            | 6347                 \n",
      " user_id                             | 31                   \n",
      " rating                              | 9                    \n",
      " name                                | Baka to Test to S... \n",
      " genre                               | Comedy, Romance, ... \n",
      " type                                | TV                   \n",
      " episodes                            | 13                   \n",
      " all_rating                          | 7.83                 \n",
      " members                             | 301282               \n",
      " aired_from                          | 1262793600           \n",
      " aired_to                            | 1270051200           \n",
      " label                               | 1                    \n",
      " genres                              | [Comedy, Romance,... \n",
      " types                               | [TV]                 \n",
      " user_rating_cnt                     | 3                    \n",
      " user_rating_ave                     | 8.67                 \n",
      " user_rating_std                     | 0.58                 \n",
      " user_aired_from_ave                 | 1.226304E9           \n",
      " user_aired_to_ave                   | 1.2337632E9          \n",
      " user_liked_genres                   | [Action, Mecha, S... \n",
      " user_liked_type                     | [TV, Movie]          \n",
      " user_episodes_ave                   | 13.0                 \n",
      " all_rating_Standardization          | -0.05                \n",
      " members_Standardization             | 0.43                 \n",
      " aired_from_Standardization          | 0.18                 \n",
      " aired_to_Standardization            | 0.15                 \n",
      " episodes_Standardization            | -0.19                \n",
      " user_rating_ave_Standardization     | -0.39                \n",
      " user_rating_std_Standardization     | -0.91                \n",
      " user_aired_from_ave_Standardization | 0.65                 \n",
      " user_aired_to_ave_Standardization   | 0.61                 \n",
      " user_episodes_ave_Standardization   | -0.63                \n",
      " genres_multihot                     | [1, 0, 1, 0, 0, 0... \n",
      " types_multihot                      | [1, 0, 0, 0, 0, 0]   \n",
      " user_liked_genres_multihot          | [0, 1, 1, 0, 0, 0... \n",
      " user_liked_type_multihot            | [1, 1, 0, 0, 0, 0]   \n",
      "-RECORD 1---------------------------------------------------\n",
      " anime_id                            | 7791                 \n",
      " user_id                             | 31                   \n",
      " rating                              | 9                    \n",
      " name                                | K-On!!               \n",
      " genre                               | Comedy, Music, Sc... \n",
      " type                                | TV                   \n",
      " episodes                            | 26                   \n",
      " all_rating                          | 8.14                 \n",
      " members                             | 246276               \n",
      " aired_from                          | 1270569600           \n",
      " aired_to                            | 1285689600           \n",
      " label                               | 1                    \n",
      " genres                              | [Comedy, Music, S... \n",
      " types                               | [TV]                 \n",
      " user_rating_cnt                     | 4                    \n",
      " user_rating_ave                     | 8.75                 \n",
      " user_rating_std                     | 0.5                  \n",
      " user_aired_from_ave                 | 1.2354264E9          \n",
      " user_aired_to_ave                   | 1.2428352E9          \n",
      " user_liked_genres                   | [Action, Mecha, S... \n",
      " user_liked_type                     | [TV, Movie]          \n",
      " user_episodes_ave                   | 13.0                 \n",
      " all_rating_Standardization          | 0.47                 \n",
      " members_Standardization             | 0.16                 \n",
      " aired_from_Standardization          | 0.23                 \n",
      " aired_to_Standardization            | 0.24                 \n",
      " episodes_Standardization            | 0.24                 \n",
      " user_rating_ave_Standardization     | -0.18                \n",
      " user_rating_std_Standardization     | -1.47                \n",
      " user_aired_from_ave_Standardization | 0.69                 \n",
      " user_aired_to_ave_Standardization   | 0.65                 \n",
      " user_episodes_ave_Standardization   | -0.63                \n",
      " genres_multihot                     | [1, 0, 0, 0, 0, 0... \n",
      " types_multihot                      | [1, 0, 0, 0, 0, 0]   \n",
      " user_liked_genres_multihot          | [1, 1, 0, 0, 0, 0... \n",
      " user_liked_type_multihot            | [1, 1, 0, 0, 0, 0]   \n",
      "-RECORD 2---------------------------------------------------\n",
      " anime_id                            | 6634                 \n",
      " user_id                             | 31                   \n",
      " rating                              | 9                    \n",
      " name                                | Sengoku Basara Two   \n",
      " genre                               | Action, Historica... \n",
      " type                                | TV                   \n",
      " episodes                            | 12                   \n",
      " all_rating                          | 7.74                 \n",
      " members                             | 42798                \n",
      " aired_from                          | 1278777600           \n",
      " aired_to                            | 1285430400           \n",
      " label                               | 1                    \n",
      " genres                              | [Action, Historic... \n",
      " types                               | [TV]                 \n",
      " user_rating_cnt                     | 5                    \n",
      " user_rating_ave                     | 8.8                  \n",
      " user_rating_std                     | 0.45                 \n",
      " user_aired_from_ave                 | 1.24245504E9         \n",
      " user_aired_to_ave                   | 1.25140608E9         \n",
      " user_liked_genres                   | [Comedy, School, ... \n",
      " user_liked_type                     | [TV, Movie]          \n",
      " user_episodes_ave                   | 16.0                 \n",
      " all_rating_Standardization          | -0.2                 \n",
      " members_Standardization             | -0.85                \n",
      " aired_from_Standardization          | 0.28                 \n",
      " aired_to_Standardization            | 0.24                 \n",
      " episodes_Standardization            | -0.22                \n",
      " user_rating_ave_Standardization     | -0.05                \n",
      " user_rating_std_Standardization     | -1.82                \n",
      " user_aired_from_ave_Standardization | 0.73                 \n",
      " user_aired_to_ave_Standardization   | 0.7                  \n",
      " user_episodes_ave_Standardization   | -0.49                \n",
      " genres_multihot                     | [0, 1, 0, 0, 0, 0... \n",
      " types_multihot                      | [1, 0, 0, 0, 0, 0]   \n",
      " user_liked_genres_multihot          | [1, 1, 0, 0, 0, 0... \n",
      " user_liked_type_multihot            | [1, 1, 0, 0, 0, 0]   \n",
      "-RECORD 3---------------------------------------------------\n",
      " anime_id                            | 8769                 \n",
      " user_id                             | 31                   \n",
      " rating                              | 8                    \n",
      " name                                | Ore no Imouto ga ... \n",
      " genre                               | Comedy, Seinen, S... \n",
      " type                                | TV                   \n",
      " episodes                            | 12                   \n",
      " all_rating                          | 7.49                 \n",
      " members                             | 321477               \n",
      " aired_from                          | 1286035200           \n",
      " aired_to                            | 1292688000           \n",
      " label                               | 1                    \n",
      " genres                              | [Comedy, Seinen, ... \n",
      " types                               | [TV]                 \n",
      " user_rating_cnt                     | 6                    \n",
      " user_rating_ave                     | 8.83                 \n",
      " user_rating_std                     | 0.41                 \n",
      " user_aired_from_ave                 | 1.2485088E9          \n",
      " user_aired_to_ave                   | 1.2570768E9          \n",
      " user_liked_genres                   | [Action, Comedy, ... \n",
      " user_liked_type                     | [TV, Movie]          \n",
      " user_episodes_ave                   | 15.0                 \n",
      " all_rating_Standardization          | -0.62                \n",
      " members_Standardization             | 0.53                 \n",
      " aired_from_Standardization          | 0.32                 \n",
      " aired_to_Standardization            | 0.29                 \n",
      " episodes_Standardization            | -0.22                \n",
      " user_rating_ave_Standardization     | 0.03                 \n",
      " user_rating_std_Standardization     | -2.11                \n",
      " user_aired_from_ave_Standardization | 0.76                 \n",
      " user_aired_to_ave_Standardization   | 0.72                 \n",
      " user_episodes_ave_Standardization   | -0.54                \n",
      " genres_multihot                     | [1, 0, 0, 0, 0, 0... \n",
      " types_multihot                      | [1, 0, 0, 0, 0, 0]   \n",
      " user_liked_genres_multihot          | [1, 1, 0, 0, 0, 0... \n",
      " user_liked_type_multihot            | [1, 1, 0, 0, 0, 0]   \n",
      "-RECORD 4---------------------------------------------------\n",
      " anime_id                            | 8841                 \n",
      " user_id                             | 31                   \n",
      " rating                              | 8                    \n",
      " name                                | Kore wa Zombie De... \n",
      " genre                               | Action, Comedy, E... \n",
      " type                                | TV                   \n",
      " episodes                            | 12                   \n",
      " all_rating                          | 7.67                 \n",
      " members                             | 295782               \n",
      " aired_from                          | 1294675200           \n",
      " aired_to                            | 1301414400           \n",
      " label                               | 1                    \n",
      " genres                              | [Action, Comedy, ... \n",
      " types                               | [TV]                 \n",
      " user_rating_cnt                     | 7                    \n",
      " user_rating_ave                     | 8.71                 \n",
      " user_rating_std                     | 0.49                 \n",
      " user_aired_from_ave                 | 1.253869714E9        \n",
      " user_aired_to_ave                   | 1.262164114E9        \n",
      " user_liked_genres                   | [Comedy, Action, ... \n",
      " user_liked_type                     | [TV, Movie]          \n",
      " user_episodes_ave                   | 15.0                 \n",
      " all_rating_Standardization          | -0.32                \n",
      " members_Standardization             | 0.4                  \n",
      " aired_from_Standardization          | 0.37                 \n",
      " aired_to_Standardization            | 0.34                 \n",
      " episodes_Standardization            | -0.22                \n",
      " user_rating_ave_Standardization     | -0.28                \n",
      " user_rating_std_Standardization     | -1.54                \n",
      " user_aired_from_ave_Standardization | 0.78                 \n",
      " user_aired_to_ave_Standardization   | 0.75                 \n",
      " user_episodes_ave_Standardization   | -0.54                \n",
      " genres_multihot                     | [1, 1, 0, 0, 1, 0... \n",
      " types_multihot                      | [1, 0, 0, 0, 0, 0]   \n",
      " user_liked_genres_multihot          | [1, 1, 0, 0, 0, 0... \n",
      " user_liked_type_multihot            | [1, 1, 0, 0, 0, 0]   \n",
      "-RECORD 5---------------------------------------------------\n",
      " anime_id                            | 9471                 \n",
      " user_id                             | 31                   \n",
      " rating                              | 8                    \n",
      " name                                | Baka to Test to S... \n",
      " genre                               | Comedy, School, S... \n",
      " type                                | OVA                  \n",
      " episodes                            | 2                    \n",
      " all_rating                          | 7.8                  \n",
      " members                             | 67684                \n",
      " aired_from                          | 1298390400           \n",
      " aired_to                            | 1301414400           \n",
      " label                               | 1                    \n",
      " genres                              | [Comedy, School, ... \n",
      " types                               | [OVA]                \n",
      " user_rating_cnt                     | 8                    \n",
      " user_rating_ave                     | 8.63                 \n",
      " user_rating_std                     | 0.52                 \n",
      " user_aired_from_ave                 | 1.2589704E9          \n",
      " user_aired_to_ave                   | 1.2670704E9          \n",
      " user_liked_genres                   | [Comedy, Action, ... \n",
      " user_liked_type                     | [TV, Movie]          \n",
      " user_episodes_ave                   | 14.0                 \n",
      " all_rating_Standardization          | -0.1                 \n",
      " members_Standardization             | -0.72                \n",
      " aired_from_Standardization          | 0.39                 \n",
      " aired_to_Standardization            | 0.34                 \n",
      " episodes_Standardization            | -0.55                \n",
      " user_rating_ave_Standardization     | -0.49                \n",
      " user_rating_std_Standardization     | -1.33                \n",
      " user_aired_from_ave_Standardization | 0.81                 \n",
      " user_aired_to_ave_Standardization   | 0.77                 \n",
      " user_episodes_ave_Standardization   | -0.58                \n",
      " genres_multihot                     | [1, 0, 0, 0, 0, 0... \n",
      " types_multihot                      | [0, 0, 1, 0, 0, 0]   \n",
      " user_liked_genres_multihot          | [1, 1, 0, 0, 0, 0... \n",
      " user_liked_type_multihot            | [1, 1, 0, 0, 0, 0]   \n",
      "-RECORD 6---------------------------------------------------\n",
      " anime_id                            | 9919                 \n",
      " user_id                             | 31                   \n",
      " rating                              | 8                    \n",
      " name                                | Ao no Exorcist       \n",
      " genre                               | Action, Demons, F... \n",
      " type                                | TV                   \n",
      " episodes                            | 25                   \n",
      " all_rating                          | 7.92                 \n",
      " members                             | 583823               \n",
      " aired_from                          | 1302969600           \n",
      " aired_to                            | 1317484800           \n",
      " label                               | 1                    \n",
      " genres                              | [Action, Demons, ... \n",
      " types                               | [TV]                 \n",
      " user_rating_cnt                     | 9                    \n",
      " user_rating_ave                     | 8.56                 \n",
      " user_rating_std                     | 0.53                 \n",
      " user_aired_from_ave                 | 1.2633504E9          \n",
      " user_aired_to_ave                   | 1.2708864E9          \n",
      " user_liked_genres                   | [Comedy, Action, ... \n",
      " user_liked_type                     | [TV, Movie]          \n",
      " user_episodes_ave                   | 13.0                 \n",
      " all_rating_Standardization          | 0.1                  \n",
      " members_Standardization             | 1.82                 \n",
      " aired_from_Standardization          | 0.42                 \n",
      " aired_to_Standardization            | 0.44                 \n",
      " episodes_Standardization            | 0.2                  \n",
      " user_rating_ave_Standardization     | -0.68                \n",
      " user_rating_std_Standardization     | -1.26                \n",
      " user_aired_from_ave_Standardization | 0.83                 \n",
      " user_aired_to_ave_Standardization   | 0.79                 \n",
      " user_episodes_ave_Standardization   | -0.63                \n",
      " genres_multihot                     | [0, 1, 0, 0, 1, 1... \n",
      " types_multihot                      | [1, 0, 0, 0, 0, 0]   \n",
      " user_liked_genres_multihot          | [1, 1, 0, 0, 0, 0... \n",
      " user_liked_type_multihot            | [1, 1, 0, 0, 0, 0]   \n",
      "-RECORD 7---------------------------------------------------\n",
      " anime_id                            | 9760                 \n",
      " user_id                             | 31                   \n",
      " rating                              | 8                    \n",
      " name                                | Hoshi wo Ou Kodomo   \n",
      " genre                               | Adventure, Fantas... \n",
      " type                                | Movie                \n",
      " episodes                            | 1                    \n",
      " all_rating                          | 7.81                 \n",
      " members                             | 76286                \n",
      " aired_from                          | 1304697600           \n",
      " aired_to                            | 1304697600           \n",
      " label                               | 1                    \n",
      " genres                              | [Adventure, Fanta... \n",
      " types                               | [Movie]              \n",
      " user_rating_cnt                     | 10                   \n",
      " user_rating_ave                     | 8.5                  \n",
      " user_rating_std                     | 0.53                 \n",
      " user_aired_from_ave                 | 1.26731232E9         \n",
      " user_aired_to_ave                   | 1.27554624E9         \n",
      " user_liked_genres                   | [Comedy, Action, ... \n",
      " user_liked_type                     | [TV, Movie]          \n",
      " user_episodes_ave                   | 14.0                 \n",
      " all_rating_Standardization          | -0.08                \n",
      " members_Standardization             | -0.68                \n",
      " aired_from_Standardization          | 0.43                 \n",
      " aired_to_Standardization            | 0.36                 \n",
      " episodes_Standardization            | -0.58                \n",
      " user_rating_ave_Standardization     | -0.83                \n",
      " user_rating_std_Standardization     | -1.26                \n",
      " user_aired_from_ave_Standardization | 0.85                 \n",
      " user_aired_to_ave_Standardization   | 0.82                 \n",
      " user_episodes_ave_Standardization   | -0.58                \n",
      " genres_multihot                     | [0, 0, 1, 0, 0, 1... \n",
      " types_multihot                      | [0, 1, 0, 0, 0, 0]   \n",
      " user_liked_genres_multihot          | [1, 1, 0, 0, 0, 0... \n",
      " user_liked_type_multihot            | [1, 1, 0, 0, 0, 0]   \n",
      "-RECORD 8---------------------------------------------------\n",
      " anime_id                            | 9938                 \n",
      " user_id                             | 31                   \n",
      " rating                              | 9                    \n",
      " name                                | Ikoku Meiro no Cr... \n",
      " genre                               | Historical, Seine... \n",
      " type                                | TV                   \n",
      " episodes                            | 12                   \n",
      " all_rating                          | 7.48                 \n",
      " members                             | 38652                \n",
      " aired_from                          | 1309708800           \n",
      " aired_to                            | 1316361600           \n",
      " label                               | 1                    \n",
      " genres                              | [Historical, Sein... \n",
      " types                               | [TV]                 \n",
      " user_rating_cnt                     | 11                   \n",
      " user_rating_ave                     | 8.45                 \n",
      " user_rating_std                     | 0.52                 \n",
      " user_aired_from_ave                 | 1.270710982E9        \n",
      " user_aired_to_ave                   | 1.278196364E9        \n",
      " user_liked_genres                   | [Comedy, Action, ... \n",
      " user_liked_type                     | [TV, Movie]          \n",
      " user_episodes_ave                   | 13.0                 \n",
      " all_rating_Standardization          | -0.64                \n",
      " members_Standardization             | -0.87                \n",
      " aired_from_Standardization          | 0.46                 \n",
      " aired_to_Standardization            | 0.43                 \n",
      " episodes_Standardization            | -0.22                \n",
      " user_rating_ave_Standardization     | -0.97                \n",
      " user_rating_std_Standardization     | -1.33                \n",
      " user_aired_from_ave_Standardization | 0.87                 \n",
      " user_aired_to_ave_Standardization   | 0.83                 \n",
      " user_episodes_ave_Standardization   | -0.63                \n",
      " genres_multihot                     | [0, 0, 0, 0, 0, 0... \n",
      " types_multihot                      | [1, 0, 0, 0, 0, 0]   \n",
      " user_liked_genres_multihot          | [1, 1, 0, 0, 0, 0... \n",
      " user_liked_type_multihot            | [1, 1, 0, 0, 0, 0]   \n",
      "-RECORD 9---------------------------------------------------\n",
      " anime_id                            | 8516                 \n",
      " user_id                             | 31                   \n",
      " rating                              | 9                    \n",
      " name                                | Baka to Test to S... \n",
      " genre                               | Comedy, Romance, ... \n",
      " type                                | TV                   \n",
      " episodes                            | 13                   \n",
      " all_rating                          | 7.98                 \n",
      " members                             | 183722               \n",
      " aired_from                          | 1310054400           \n",
      " aired_to                            | 1317312000           \n",
      " label                               | 1                    \n",
      " genres                              | [Comedy, Romance,... \n",
      " types                               | [TV]                 \n",
      " user_rating_cnt                     | 12                   \n",
      " user_rating_ave                     | 8.5                  \n",
      " user_rating_std                     | 0.52                 \n",
      " user_aired_from_ave                 | 1.2739608E9          \n",
      " user_aired_to_ave                   | 1.2813768E9          \n",
      " user_liked_genres                   | [Comedy, Action, ... \n",
      " user_liked_type                     | [TV, Movie]          \n",
      " user_episodes_ave                   | 13.0                 \n",
      " all_rating_Standardization          | 0.2                  \n",
      " members_Standardization             | -0.15                \n",
      " aired_from_Standardization          | 0.46                 \n",
      " aired_to_Standardization            | 0.44                 \n",
      " episodes_Standardization            | -0.19                \n",
      " user_rating_ave_Standardization     | -0.83                \n",
      " user_rating_std_Standardization     | -1.33                \n",
      " user_aired_from_ave_Standardization | 0.88                 \n",
      " user_aired_to_ave_Standardization   | 0.85                 \n",
      " user_episodes_ave_Standardization   | -0.63                \n",
      " genres_multihot                     | [1, 0, 1, 0, 0, 0... \n",
      " types_multihot                      | [1, 0, 0, 0, 0, 0]   \n",
      " user_liked_genres_multihot          | [1, 1, 0, 0, 0, 0... \n",
      " user_liked_type_multihot            | [1, 1, 0, 0, 0, 0]   \n",
      "only showing top 10 rows\n",
      "\n"
     ]
    }
   ],
   "source": [
    "transformed_df.show(10,vertical=True)"
   ]
  },
  {
   "cell_type": "code",
   "execution_count": null,
   "id": "b604e982",
   "metadata": {},
   "outputs": [],
   "source": []
  },
  {
   "cell_type": "markdown",
   "id": "6bf98486",
   "metadata": {},
   "source": [
    "### 3.4处理线上服务用户&物品特征 <a id=\"section_3_4\"></a>"
   ]
  },
  {
   "cell_type": "markdown",
   "id": "87789100",
   "metadata": {},
   "source": [
    "对于给线上服务提供的用户和物品的特征集，对于动漫信息，没有必要把历史上用户看过的每一个动漫信息全部处理一遍，只要拿到动漫最新的数据就可以了。从模型上线那一刻开始，模型所用到的数据就是只需要最新的特征。比如一天前，一个月前，一年前动漫的特征是什么样子，线上服务是不用去关心的。"
   ]
  },
  {
   "cell_type": "code",
   "execution_count": null,
   "id": "b9026619",
   "metadata": {},
   "outputs": [],
   "source": [
    "anime_genre_df=anime_df\\\n",
    "       .withColumn('genres',genre_to_list('genre'))"
   ]
  },
  {
   "cell_type": "markdown",
   "id": "2d42f727",
   "metadata": {},
   "source": [
    "anime numeric "
   ]
  },
  {
   "cell_type": "code",
   "execution_count": null,
   "id": "7ec9fc85",
   "metadata": {},
   "outputs": [],
   "source": [
    "cc=item_numeric_scaler.transform(anime_genre_df)"
   ]
  },
  {
   "cell_type": "markdown",
   "id": "38b903df",
   "metadata": {},
   "source": [
    "anime categorical"
   ]
  },
  {
   "cell_type": "code",
   "execution_count": null,
   "id": "ada788fd",
   "metadata": {},
   "outputs": [],
   "source": [
    "item_both_transformed_df=item_categorical_encoder.transform(cc)\n",
    "item_both_transformed_df.count()"
   ]
  },
  {
   "cell_type": "code",
   "execution_count": null,
   "id": "5cc82e23",
   "metadata": {},
   "outputs": [],
   "source": [
    "item_both_transformed_df.show(10,vertical=True)"
   ]
  },
  {
   "cell_type": "markdown",
   "id": "0414fefd",
   "metadata": {},
   "source": [
    "把这些处理好的数据存下来，存在合适的地方，共后续的整个系统来来使用，深度学习模型训练所需要的数据，可以先将其写成CSV的文件，由于深度学习的模型训练是离线计算的，而且可以是批量的，分批的进行学习，所以并不一定要把他们存放在在线上可以轻易访问到的，比如redis这些比较热的数据库中，可以存放在一个比较冷的htfs,或者本地磁盘上"
   ]
  },
  {
   "cell_type": "code",
   "execution_count": null,
   "id": "e145e97b",
   "metadata": {},
   "outputs": [],
   "source": [
    "w=Window.partitionBy('user_id')"
   ]
  },
  {
   "cell_type": "code",
   "execution_count": null,
   "id": "f2c30a97",
   "metadata": {},
   "outputs": [],
   "source": [
    "user_feat_df=feat_df\\\n",
    "            .withColumn('max_aired',max(col('aired_from')).over(w))\\\n",
    "            .where(col('max_aired')==col('aired_from'))\\\n",
    "            .drop('max_aired')\n",
    "#实现以上的功能的代码还有一个写法\n",
    "#w1=Window.partitionBy('user_id').orderBy(col('aired_from').desc()).\n",
    "#feat_df\\\n",
    "      #.withColumn('row_index',row_number().over(w1))\\ #在窗口排好序之后，给每一行一个index，取row index是1的都能保证取到最大值的那一行\n",
    "      #.filter(col('row_index')==1)\\\n",
    "      #.drop('row_index')"
   ]
  },
  {
   "cell_type": "code",
   "execution_count": null,
   "id": "cf92257c",
   "metadata": {},
   "outputs": [],
   "source": [
    "user_feat_df.select('user_id','anime_id','aired_from').show(5)"
   ]
  },
  {
   "cell_type": "code",
   "execution_count": null,
   "id": "b9b0e9bd",
   "metadata": {},
   "outputs": [],
   "source": [
    "user_numeric_transformed_df=user_numeric_scaler.transform(user_feat_df)"
   ]
  },
  {
   "cell_type": "code",
   "execution_count": null,
   "id": "bec2414b",
   "metadata": {},
   "outputs": [],
   "source": [
    "user_both_transformed_df=user_categorical_encoder.transform(user_numeric_transformed_df)\n",
    "user_both_transformed_df.count()"
   ]
  },
  {
   "cell_type": "code",
   "execution_count": null,
   "id": "de2f7217",
   "metadata": {},
   "outputs": [],
   "source": [
    "user_both_transformed_df.show(10,vertical=True)"
   ]
  },
  {
   "cell_type": "markdown",
   "id": "3ec523c2",
   "metadata": {},
   "source": [
    "#### Save user and item features to redis，供线上系统随时来访问"
   ]
  },
  {
   "cell_type": "code",
   "execution_count": null,
   "id": "2b0a4357",
   "metadata": {},
   "outputs": [],
   "source": [
    "item_features=item_both_transformed_df.collect()"
   ]
  },
  {
   "cell_type": "code",
   "execution_count": null,
   "id": "913137f1",
   "metadata": {},
   "outputs": [],
   "source": [
    "item_features[1]"
   ]
  },
  {
   "cell_type": "code",
   "execution_count": null,
   "id": "64ce951f",
   "metadata": {},
   "outputs": [],
   "source": [
    "user_features=user_both_transformed_df.collect()"
   ]
  },
  {
   "cell_type": "code",
   "execution_count": null,
   "id": "ee2d783d",
   "metadata": {},
   "outputs": [],
   "source": [
    "user_features[1]"
   ]
  },
  {
   "cell_type": "markdown",
   "id": "37c07752",
   "metadata": {},
   "source": [
    "# 4. MLP神经网络 <a id=\"chapter4\"></a>"
   ]
  },
  {
   "cell_type": "code",
   "execution_count": 3,
   "id": "c7fcbf05",
   "metadata": {},
   "outputs": [],
   "source": [
    "import os\n",
    "import pandas as pd\n",
    "import tensorflow as tf\n",
    "import tensorflow.keras as keras\n",
    "import numpy as np\n",
    "from pyspark.sql import SparkSession"
   ]
  },
  {
   "cell_type": "code",
   "execution_count": 2,
   "id": "a2e1969a",
   "metadata": {},
   "outputs": [],
   "source": [
    "spark = SparkSession.builder.appName(\"ReadParquet\").getOrCreate()"
   ]
  },
  {
   "cell_type": "markdown",
   "id": "ca1b30d7",
   "metadata": {},
   "source": [
    "#### Define features"
   ]
  },
  {
   "cell_type": "markdown",
   "id": "48989bd1",
   "metadata": {},
   "source": [
    "读入数据对模型进行训练，帮助函数，把我们所要的数值或者分类特征取出来，将其转成numpy array,tensorflow支持的类型是numpy array,所以既不能是pandas dataframe也不能是python list"
   ]
  },
  {
   "cell_type": "code",
   "execution_count": 127,
   "id": "bcb33f2f",
   "metadata": {},
   "outputs": [],
   "source": [
    "def get_item_numeric_features(df):\n",
    "    numeric_features=[\n",
    "        \"all_rating_Standardization\",\n",
    "        \"members_Standardization\",\n",
    "        \"aired_from_Standardization\",\n",
    "        \"aired_to_Standardization\" ,\n",
    "        \"episodes_Standardization\"\n",
    "    ]\n",
    "    return df[numeric_features].to_numpy()\n",
    "\n",
    "def get_user_numeric_features(df):\n",
    "    numeric_features=[\n",
    "    'user_rating_ave_Standardization',\n",
    "    'user_rating_std_Standardization',\n",
    "    'user_aired_from_ave_Standardization',\n",
    "    'user_aired_to_ave_Standardization',\n",
    "    'user_episodes_ave_Standardization'\n",
    "    ]\n",
    "    return df[numeric_features].to_numpy()"
   ]
  },
  {
   "cell_type": "code",
   "execution_count": 128,
   "id": "4f48b789",
   "metadata": {},
   "outputs": [],
   "source": [
    "def get_multihot_features(df,feat_name):\n",
    "    \n",
    "    feat_df=df[[feat_name]]\n",
    "    feat_vec=feat_df.to_numpy()\n",
    "    feat_vec=np.apply_along_axis(lambda v: v[0],1,feat_vec)\n",
    "    return feat_vec  "
   ]
  },
  {
   "cell_type": "code",
   "execution_count": 129,
   "id": "c3fc7546",
   "metadata": {},
   "outputs": [],
   "source": [
    "def get_label(df):\n",
    "    label=df[['label']]\n",
    "    return label"
   ]
  },
  {
   "cell_type": "code",
   "execution_count": 130,
   "id": "a569e89b",
   "metadata": {},
   "outputs": [],
   "source": [
    "def get_all_features(df):\n",
    "    return(\n",
    "        get_multihot_features(df,'genres_multihot'),\n",
    "        get_multihot_features(df,'user_liked_genres_multihot'),\n",
    "        get_item_numeric_features(df),\n",
    "        get_user_numeric_features(df)\n",
    "    )"
   ]
  },
  {
   "cell_type": "markdown",
   "id": "0584d180",
   "metadata": {},
   "source": [
    "#### Load data"
   ]
  },
  {
   "cell_type": "code",
   "execution_count": 7,
   "id": "1bf5a38d",
   "metadata": {},
   "outputs": [],
   "source": [
    "#root是文件的绝对路径，files是文件名称\n",
    "def data_files():\n",
    "    filename=[]\n",
    "    for root,dirs, files in os.walk('E:\\Recomendation_sys_project\\DNN_training_data'):\n",
    "        for f in files:\n",
    "            if f.endswith('.parquet'):\n",
    "                filename.append(os.path.join(root,f))\n",
    "    return filename\n",
    "            "
   ]
  },
  {
   "cell_type": "code",
   "execution_count": 8,
   "id": "686f1521",
   "metadata": {},
   "outputs": [],
   "source": [
    "file_path=data_files()"
   ]
  },
  {
   "cell_type": "code",
   "execution_count": 9,
   "id": "d60105a5",
   "metadata": {},
   "outputs": [],
   "source": [
    "for file in file_path:\n",
    "    #df=pd.read_parquet(file)\n",
    "    df=spark.read.parquet(file)"
   ]
  },
  {
   "cell_type": "code",
   "execution_count": 9,
   "id": "e8564d8c",
   "metadata": {},
   "outputs": [
    {
     "data": {
      "text/plain": [
       "array([[0.88, 0.27, 0.69, 0.68],\n",
       "       [0.82, 0.08, 0.86, 0.87],\n",
       "       [0.76, 0.37, 0.87, 0.86],\n",
       "       ...,\n",
       "       [0.8 , 0.33, 0.96, 0.94],\n",
       "       [0.9 , 0.34, 0.96, 0.95],\n",
       "       [0.98, 0.11, 0.96, 0.95]], dtype=float32)"
      ]
     },
     "execution_count": 9,
     "metadata": {},
     "output_type": "execute_result"
    }
   ],
   "source": [
    "get_item_numeric_features(df)#将传入的numeric_features的四个数值特征构成一个4维的数值向量"
   ]
  },
  {
   "cell_type": "code",
   "execution_count": null,
   "id": "959f76cc",
   "metadata": {},
   "outputs": [],
   "source": [
    "train_df=transformed_df.sample(frac=0.8,random_state=666)\n",
    "test_df=transformed_df.drop(train_df.index)"
   ]
  },
  {
   "cell_type": "code",
   "execution_count": 11,
   "id": "71c7dbb8",
   "metadata": {},
   "outputs": [],
   "source": [
    "train_x1,train_x2,train_x3,train_x4=get_all_features(train_df)"
   ]
  },
  {
   "cell_type": "code",
   "execution_count": null,
   "id": "f42d9d1c",
   "metadata": {},
   "outputs": [],
   "source": [
    "len(train_x1)"
   ]
  },
  {
   "cell_type": "code",
   "execution_count": null,
   "id": "7c0311c0",
   "metadata": {},
   "outputs": [],
   "source": [
    "test_x1,test_x2,test_x3,test_x4=get_all_features(test_df)"
   ]
  },
  {
   "cell_type": "code",
   "execution_count": 12,
   "id": "95380ec7",
   "metadata": {},
   "outputs": [],
   "source": [
    "train_y=get_label(train_df)\n",
    "test_y=get_label(test_df)"
   ]
  },
  {
   "cell_type": "markdown",
   "id": "b5deeab7",
   "metadata": {},
   "source": [
    "### 4.1 模型训练 <a id=\"section_4_1\"></a>"
   ]
  },
  {
   "cell_type": "markdown",
   "id": "96177b18",
   "metadata": {},
   "source": [
    "x1: item categorical features\\\n",
    "x2: user catergorical features\\\n",
    "x3: item numeric features\\\n",
    "x4: user numerica features"
   ]
  },
  {
   "cell_type": "code",
   "execution_count": 4,
   "id": "f10ce6cf",
   "metadata": {},
   "outputs": [],
   "source": [
    "def build_model(x1_shape,x2_shape,x3_shape,x4_shape):\n",
    "    x1_input=keras.layers.Input(shape=(x1_shape,))\n",
    "    x2_input=keras.layers.Input(shape=(x2_shape,))\n",
    "    x3_input=keras.layers.Input(shape=(x3_shape,))\n",
    "    x4_input=keras.layers.Input(shape=(x4_shape,))\n",
    "    #end2end  embedding 降维\n",
    "    compact_x1=keras.layers.Dense(10)(x1_input)\n",
    "    compact_x2=keras.layers.Dense(10)(x2_input)\n",
    "    \n",
    "    #输入层\n",
    "    merge=keras.layers.concatenate([compact_x1,compact_x2,x3_input,x4_input])\n",
    "    #隐藏层\n",
    "    #first hidden layer,128个神经元\n",
    "    h1=keras.layers.Dense(128,activation='relu')(merge)\n",
    "    h2=keras.layers.Dense(128,activation='relu')(h1)\n",
    "    #输出层\n",
    "    output=keras.layers.Dense(1,activation='sigmoid')(h2)\n",
    "    \n",
    "    model=keras.models.Model(inputs=[x1_input,x2_input,x3_input,x4_input],outputs=output)\n",
    "    return model"
   ]
  },
  {
   "cell_type": "code",
   "execution_count": 5,
   "id": "8006a86f",
   "metadata": {},
   "outputs": [],
   "source": [
    "model3=build_model(43,43,5,5)"
   ]
  },
  {
   "cell_type": "code",
   "execution_count": 6,
   "id": "c7aab8b5",
   "metadata": {},
   "outputs": [],
   "source": [
    "model3.compile(\n",
    "    loss='binary_crossentropy',\n",
    "    optimizer='adam',\n",
    "    metrics=['accuracy']\n",
    ")"
   ]
  },
  {
   "cell_type": "code",
   "execution_count": null,
   "id": "0d428719",
   "metadata": {},
   "outputs": [],
   "source": [
    "model3.fit([train_x1,train_x2,train_x3,train_x4],train_y,batch_size=30,epochs=2,validation_split=0.2)"
   ]
  },
  {
   "cell_type": "code",
   "execution_count": null,
   "id": "e315bd18",
   "metadata": {},
   "outputs": [],
   "source": []
  },
  {
   "cell_type": "code",
   "execution_count": null,
   "id": "4f6029e5",
   "metadata": {},
   "outputs": [],
   "source": []
  },
  {
   "cell_type": "code",
   "execution_count": null,
   "id": "dfb495ce",
   "metadata": {},
   "outputs": [],
   "source": []
  },
  {
   "cell_type": "code",
   "execution_count": 18,
   "id": "1de4a8ac",
   "metadata": {},
   "outputs": [],
   "source": [
    "model2=build_model(43,43,5,5)"
   ]
  },
  {
   "cell_type": "code",
   "execution_count": 20,
   "id": "7b58875c",
   "metadata": {},
   "outputs": [
    {
     "data": {
      "image/png": "[encoded data removed]",
      "text/plain": [
       "<IPython.core.display.Image object>"
      ]
     },
     "execution_count": 20,
     "metadata": {},
     "output_type": "execute_result"
    }
   ],
   "source": [
    "keras.utils.plot_model(model2,show_shapes=True)"
   ]
  },
  {
   "cell_type": "code",
   "execution_count": 21,
   "id": "e9bc9365",
   "metadata": {},
   "outputs": [
    {
     "name": "stdout",
     "output_type": "stream",
     "text": [
      "Epoch 1/2\n",
      "117334/117334 [==============================] - 192s 2ms/step - loss: 0.6700 - accuracy: 0.6076 - val_loss: 0.6698 - val_accuracy: 0.6077\n",
      "Epoch 2/2\n",
      "117334/117334 [==============================] - 201s 2ms/step - loss: 0.6699 - accuracy: 0.6076 - val_loss: 0.6698 - val_accuracy: 0.6077\n"
     ]
    },
    {
     "data": {
      "text/plain": [
       "<keras.callbacks.History at 0x17b793a2520>"
      ]
     },
     "execution_count": 21,
     "metadata": {},
     "output_type": "execute_result"
    }
   ],
   "source": [
    "model2.compile(\n",
    "    loss='binary_crossentropy',\n",
    "    optimizer='adam',\n",
    "    metrics=['accuracy']\n",
    ")\n",
    "\n",
    "#batch_size训练数据分批的批次，epochs训练几轮\n",
    "model2.fit([train_x1,train_x2,train_x3,train_x4],train_y,batch_size=30,epochs=2,validation_split=0.2)"
   ]
  },
  {
   "cell_type": "markdown",
   "id": "342a3227",
   "metadata": {},
   "source": [
    "#### test model (first attempt)"
   ]
  },
  {
   "cell_type": "code",
   "execution_count": null,
   "id": "5a2fa75d",
   "metadata": {},
   "outputs": [],
   "source": [
    "test_loss,test_accuracy=model.evaluate([test_x1,test_x2,test_x3,test_x4],test_y)"
   ]
  },
  {
   "cell_type": "markdown",
   "id": "d9e95c1c",
   "metadata": {},
   "source": [
    "### 4.2 模型调参与模型评估 <a id=\"section_4_2\"></a>"
   ]
  },
  {
   "cell_type": "markdown",
   "id": "1d5e9597",
   "metadata": {},
   "source": [
    "老师的模型精确度达到了0.75，但是我的才0.61，可以对模型性能提升的方式有：调整模型的参数，还有认为其他可能影响到模型的feature,看看有可能相关的features,将其添加到模型里"
   ]
  },
  {
   "cell_type": "code",
   "execution_count": 10,
   "id": "3d526cab",
   "metadata": {},
   "outputs": [],
   "source": [
    "from tensorboard.plugins.hparams import api as hp\n"
   ]
  },
  {
   "cell_type": "code",
   "execution_count": 11,
   "id": "d8e6dea2",
   "metadata": {},
   "outputs": [],
   "source": [
    "HP_LAYERS=hp.HParam('layers',hp.IntInterval(2,3))\n",
    "HP_LAYER_SIZE=hp.HParam('layer_size',hp.Discrete([64,128,256]))\n",
    "HP_LEARN_RATE=hp.HParam('learning_rate',hp.Discrete([0.001,0.003,0.01]))\n",
    "HParam=[\n",
    "    HP_LAYERS,\n",
    "    HP_LAYER_SIZE,\n",
    "    HP_LEARN_RATE \n",
    "]\n",
    "\n",
    "METRICS=[\n",
    "    hp.Metric('loss',group='train',display_name='loss_train'),\n",
    "    hp.Metric('loss',group='validation',display_name='loss_val')\n",
    "]"
   ]
  },
  {
   "cell_type": "code",
   "execution_count": null,
   "id": "1aa4adc2",
   "metadata": {},
   "outputs": [],
   "source": []
  },
  {
   "cell_type": "code",
   "execution_count": 12,
   "id": "392ee79a",
   "metadata": {},
   "outputs": [],
   "source": [
    "def tuning_model(x1_shape,x2_shape,x3_shape,x4_shape,hparam):\n",
    "    x1_input=keras.layers.Input(shape=(x1_shape,))\n",
    "    x2_input=keras.layers.Input(shape=(x2_shape,))\n",
    "    x3_input=keras.layers.Input(shape=(x3_shape,))\n",
    "    x4_input=keras.layers.Input(shape=(x4_shape,))\n",
    "    #end2end  embedding 降维\n",
    "    compact_x1=keras.layers.Dense(10)(x1_input)\n",
    "    compact_x2=keras.layers.Dense(10)(x2_input)\n",
    "    \n",
    "    #输入层\n",
    "    merge=keras.layers.concatenate([compact_x1,compact_x2,x3_input,x4_input])\n",
    "    h_pre=merge\n",
    "    for _ in range(hparam[HP_LAYERS]):\n",
    "        h=keras.layers.Dense(hparam[HP_LAYER_SIZE],activation='relu')(h_pre)\n",
    "        h_pre=h\n",
    "    \n",
    "    #输出层\n",
    "    output=keras.layers.Dense(1,activation='sigmoid')(h)\n",
    "    \n",
    "    model=keras.models.Model(inputs=[x1_input,x2_input,x3_input,x4_input],outputs=output)\n",
    "     \n",
    "    opt=keras.optimizers.Adam(learning_rate=hparam[HP_LEARN_RATE])\n",
    "    model.compile(\n",
    "    loss='binary_crossentropy',\n",
    "    optimizer=opt,\n",
    "    metrics=['accuracy']\n",
    "        )\n",
    "    #tf.config.run_functions_eagerly(True)\n",
    "    tf.data.experimental.enable_debug_mode()\n",
    "    return model"
   ]
  },
  {
   "cell_type": "code",
   "execution_count": 17,
   "id": "c725c882",
   "metadata": {},
   "outputs": [],
   "source": [
    "#构建可能的超参数组合\n",
    "#然后对每个模型传输这些超参数组合\n",
    "def test_param(df):\n",
    "    \n",
    "    with tf.summary.create_file_writer('hparams').as_default():\n",
    "         hp.hparams_config(hparams=HParam, metrics=METRICS)\n",
    "        \n",
    "    model_id=0 \n",
    "    for layers in range(HP_LAYERS.domain.min_value,HP_LAYERS.domain.max_value+1):\n",
    "        for size in HP_LAYER_SIZE.domain.values:\n",
    "            for rate in HP_LEARN_RATE.domain.values:\n",
    "                #之前创建的HParam对象(HP_LAYERS)为键\n",
    "                hparam_dict={\n",
    "                    HP_LAYERS:layers,\n",
    "                    HP_LAYER_SIZE:size,\n",
    "                    HP_LEARN_RATE:rate\n",
    "                }\n",
    "                run_model(hparam_dict,model_id,df)\n",
    "                model_id+=1\n",
    "    \n",
    "                \n",
    "#给定某一个超参数组合，给定模型，并且训练模型\n",
    "#给每个model一个ID\n",
    "def run_model(hparams,model_id,df):\n",
    "    \n",
    "    model_t=tuning_model(43,43,4,4,hparams)\n",
    "    print(f\"\\nmodel id: {model_id}\")\n",
    "    print({p.name: hparams[p] for p in hparams})\n",
    "    #\n",
    "    log_filename=f'{model_id}'\n",
    "    for h in hparams:\n",
    "        log_filename+=f\"_{h.name}_{hparams[h]}\"\n",
    "        \n",
    "    log_dir=os.path.join('hparams',log_filename)\n",
    "    tensorboard_callback=tf.keras.callbacks.TensorBoard(\n",
    "        log_dir=log_dir,\n",
    "        update_freq=10,\n",
    "        profile_batch=0 \n",
    "    )\n",
    "    hparams_callback=hp.KerasCallback(log_dir,hparams)\n",
    "    #读取文件\n",
    "    #file_path=data_files()\n",
    "    #for file in file_path:\n",
    "         #df=pd.read_parquet(file)\n",
    "\n",
    "    train_df=df\n",
    "    train_x1,train_x2,train_x3,train_x4=get_all_features(train_df)\n",
    "    train_y=get_label(train_df)\n",
    "    model_t.fit(\n",
    "         [train_x1,train_x2,train_x3,train_x4],\n",
    "         train_y,\n",
    "         batch_size=25,\n",
    "         epochs=4,\n",
    "         validation_split=0.2,\n",
    "         callbacks=[tensorboard_callback,hparams_callback]\n",
    "    )"
   ]
  },
  {
   "cell_type": "code",
   "execution_count": null,
   "id": "faf2f09e",
   "metadata": {},
   "outputs": [
    {
     "name": "stdout",
     "output_type": "stream",
     "text": [
      "\n",
      "model id: 0\n",
      "{'layers': 2, 'layer_size': 64, 'learning_rate': 0.001}\n",
      "Epoch 1/4\n",
      "176000/176000 [==============================] - 459s 3ms/step - loss: 0.6694 - accuracy: 0.6089 - val_loss: 0.6719 - val_accuracy: 0.6027\n",
      "Epoch 2/4\n",
      "176000/176000 [==============================] - 465s 3ms/step - loss: 0.6694 - accuracy: 0.6089 - val_loss: 0.6719 - val_accuracy: 0.6027\n",
      "Epoch 3/4\n",
      "176000/176000 [==============================] - 458s 3ms/step - loss: 0.6694 - accuracy: 0.6089 - val_loss: 0.6725 - val_accuracy: 0.6027\n",
      "Epoch 4/4\n",
      "176000/176000 [==============================] - 458s 3ms/step - loss: 0.6694 - accuracy: 0.6089 - val_loss: 0.6720 - val_accuracy: 0.6027\n",
      "\n",
      "model id: 1\n",
      "{'layers': 2, 'layer_size': 64, 'learning_rate': 0.003}\n",
      "Epoch 1/4\n",
      "176000/176000 [==============================] - 460s 3ms/step - loss: 0.6694 - accuracy: 0.6089 - val_loss: 0.6722 - val_accuracy: 0.6027\n",
      "Epoch 2/4\n",
      "176000/176000 [==============================] - 464s 3ms/step - loss: 0.6693 - accuracy: 0.6089 - val_loss: 0.6722 - val_accuracy: 0.6027\n",
      "Epoch 3/4\n",
      "176000/176000 [==============================] - 464s 3ms/step - loss: 0.6694 - accuracy: 0.6089 - val_loss: 0.6719 - val_accuracy: 0.6027\n",
      "Epoch 4/4\n",
      "176000/176000 [==============================] - 454s 3ms/step - loss: 0.6693 - accuracy: 0.6089 - val_loss: 0.6719 - val_accuracy: 0.6027\n",
      "\n",
      "model id: 2\n",
      "{'layers': 2, 'layer_size': 64, 'learning_rate': 0.01}\n",
      "Epoch 1/4\n",
      "176000/176000 [==============================] - 463s 3ms/step - loss: 0.6695 - accuracy: 0.6089 - val_loss: 0.6719 - val_accuracy: 0.6027\n",
      "Epoch 2/4\n",
      "135246/176000 [======================>.......] - ETA: 1:30 - loss: 0.6697 - accuracy: 0.6087"
     ]
    }
   ],
   "source": [
    "%rm -rf hparam\n",
    "test_param(df)"
   ]
  },
  {
   "cell_type": "code",
   "execution_count": null,
   "id": "b5993b81",
   "metadata": {},
   "outputs": [],
   "source": [
    "% load_ext tensorboard\n",
    "%tensorboard --logdir hparams"
   ]
  },
  {
   "cell_type": "markdown",
   "id": "db8cd72a",
   "metadata": {},
   "source": [
    "#### Save Model"
   ]
  },
  {
   "cell_type": "code",
   "execution_count": 22,
   "id": "b03e9ed4",
   "metadata": {},
   "outputs": [
    {
     "name": "stdout",
     "output_type": "stream",
     "text": [
      "INFO:tensorflow:Assets written to: mlp_model\\assets\n"
     ]
    }
   ],
   "source": [
    "model2.save('mlp_model')"
   ]
  },
  {
   "cell_type": "markdown",
   "id": "bd7d869c",
   "metadata": {},
   "source": [
    "# 5. 召回&排序&客户访问API后端搭建 <a id=\"chapter5\"></a>"
   ]
  },
  {
   "cell_type": "markdown",
   "id": "18995894",
   "metadata": {},
   "source": [
    "后端代码的的Github链接如下"
   ]
  },
  {
   "cell_type": "markdown",
   "id": "b39c40c5",
   "metadata": {},
   "source": []
  }
 ],
 "metadata": {
  "kernelspec": {
   "display_name": "Python 3 (ipykernel)",
   "language": "python",
   "name": "python3"
  },
  "language_info": {
   "codemirror_mode": {
    "name": "ipython",
    "version": 3
   },
   "file_extension": ".py",
   "mimetype": "text/x-python",
   "name": "python",
   "nbconvert_exporter": "python",
   "pygments_lexer": "ipython3",
   "version": "3.9.13"
  }
 },
 "nbformat": 4,
 "nbformat_minor": 5
}
